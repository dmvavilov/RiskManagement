{
 "cells": [
  {
   "cell_type": "code",
   "execution_count": 109,
   "metadata": {
    "ExecuteTime": {
     "end_time": "2021-04-04T16:38:02.657557Z",
     "start_time": "2021-04-04T16:38:02.652557Z"
    }
   },
   "outputs": [],
   "source": [
    "import numpy as np\n",
    "import pandas as pd\n",
    "from datetime import datetime\n",
    "\n",
    "import seaborn as sns\n",
    "import matplotlib.pyplot as plt\n",
    "import yfinance as yf\n",
    "plt.style.use(\"bmh\")\n",
    "plt.rcParams['font.family'] = 'DejaVu Sans'\n",
    "\n",
    "import warnings\n",
    "warnings.filterwarnings(\"ignore\")\n",
    "\n",
    "from arch import arch_model \n",
    "from tqdm import tqdm"
   ]
  },
  {
   "cell_type": "markdown",
   "metadata": {},
   "source": [
    "# Загрузка данных"
   ]
  },
  {
   "cell_type": "code",
   "execution_count": 207,
   "metadata": {
    "ExecuteTime": {
     "end_time": "2021-04-04T18:44:36.378893Z",
     "start_time": "2021-04-04T18:44:36.371893Z"
    }
   },
   "outputs": [],
   "source": [
    "# https://bonds.finam.ru/issue/details018F500002/default.asp -- пример источника данных\n",
    "\n",
    "bonds_file_names = ['\\SU26205RMFS3_rates.csv', \n",
    "                 '\\SU26209RMFS5_rates.csv',\n",
    "                 '\\SU26212RMFS9_rates.csv',\n",
    "                 '\\SU26215RMFS2_rates.csv', \n",
    "                 '\\SU26217RMFS8_rates.csv']\n",
    "\n",
    "bonds_names = [x[1:len('SU26209RMFS5')+1] for x in bonds_file_names]\n",
    "\n",
    "shares_file_names = [\"\\SBER.ME.csv\", \n",
    "                  '\\GAZP.ME.csv', \n",
    "                  '\\YNDX.ME.csv',\n",
    "                  '\\MGNT.ME.csv', \n",
    "                  '\\GMKN.ME.csv',\n",
    "                  '\\MTSS.ME.csv', \n",
    "                  '\\PIKK.ME.csv', \n",
    "                  '\\AFLT.ME.csv', \n",
    "                  '\\POLY.ME.csv', \n",
    "                  '\\RSTI.ME.csv']\n",
    "\n",
    "shares_names = [x[1:5] for x in shares_file_names]\n",
    "\n",
    "currencies_file_names = ['\\D_USD.csv',\n",
    "                      '\\D_CNY.csv']\n",
    "\n",
    "currencies_names = [x[3:6] for x in currencies_file_names]\n",
    "\n",
    "risks_file_names = ['\\IMOEX.ME.csv',\n",
    "                    '\\BZ=F.csv',\n",
    "                    '\\RTS.csv']   \n",
    "\n",
    "risks_names = [x.split(chr(92))[1].split('.csv')[0] for x in risks_file_names]\n",
    "\n",
    "bonds_folder = 'bonds'\n",
    "shares_folder = 'shares'\n",
    "currencies_folder = 'currencies'\n",
    "risks_folder = 'risk_factors'\n",
    "\n",
    "bonds = [bonds_folder + x for x in bonds_file_names]\n",
    "shares = [shares_folder + x for x in shares_file_names]\n",
    "currencies = [currencies_folder + x for x in currencies_file_names]\n",
    "risks = [risks_folder + x for x in risks_file_names]\n",
    "zero_bonds = risks_folder + '/zero_bonds.csv'\n",
    "metals = risks_folder + '/refined_precious_metals.xlsx'"
   ]
  },
  {
   "cell_type": "code",
   "execution_count": 208,
   "metadata": {
    "ExecuteTime": {
     "end_time": "2021-04-04T18:44:36.942925Z",
     "start_time": "2021-04-04T18:44:36.924924Z"
    }
   },
   "outputs": [],
   "source": [
    "def load_df(bonds=bonds, bonds_names=bonds_names, \n",
    "            shares=shares, shares_names=shares_names,\n",
    "            currencies=currencies, currencies_names=currencies_names,\n",
    "            risks=risks, risks_names=risks_names,\n",
    "            zero_bonds=zero_bonds, metals=metals):\n",
    "#     Основной df\n",
    "    main_df = pd.read_csv(bonds[0], index_col='<DATE>')\n",
    "    main_df.index = pd.to_datetime(main_df.index, format='%Y%m%d')\n",
    "    main_df = main_df[[]]\n",
    "    main_df.index.names = ['Date']\n",
    "#     Загрузка облигаций\n",
    "    for i in range(len(bonds)):\n",
    "        df = pd.read_csv(bonds[i], index_col='<DATE>')\n",
    "        df.index = pd.to_datetime(df.index, format='%Y%m%d')\n",
    "        df = df[['<CLOSE>']].rename(columns={'<CLOSE>': bonds_names[i]})\n",
    "        df.index.names = ['Date']\n",
    "        main_df = main_df.join(df, how='left', on='Date')\n",
    "#     Загрузка акций\n",
    "    for i in range(len(shares)):\n",
    "        df = pd.read_csv(shares[i], index_col='Date')\n",
    "        df.index = pd.to_datetime(df.index)\n",
    "        df = df[['Adj Close']].rename(columns={'Adj Close': shares_names[i]})\n",
    "        main_df = main_df.join(df, how='left', on='Date')\n",
    "#     Загрузка валют\n",
    "    for i in range(len(currencies)):\n",
    "        df = pd.read_csv(currencies[i], index_col='Date')\n",
    "        df.index = pd.to_datetime(df.index)\n",
    "        df = df[['Adj Close']].rename(columns={'Adj Close': currencies_names[i]})\n",
    "        main_df = main_df.join(df, how='left', on='Date')\n",
    "#     Загрузка рисков\n",
    "    for i in range(len(risks)):\n",
    "        df = pd.read_csv(risks[i], index_col='Date')\n",
    "        df.index = pd.to_datetime(df.index)\n",
    "        df = df[['Adj Close']].rename(columns={'Adj Close': risks_names[i]})\n",
    "        main_df = main_df.join(df, how='left', on='Date')\n",
    "#     Загрузка металлов\n",
    "    df = pd.read_excel(metals, index_col='Date')\n",
    "    df.index = pd.to_datetime(df.index)\n",
    "    main_df = main_df.join(df, how='left', on='Date')\n",
    "\n",
    "#     Загрузка zero_bonds\n",
    "    df = pd.read_csv(zero_bonds, index_col='Date')\n",
    "    df.index = pd.to_datetime(df.index)\n",
    "    main_df = main_df.join(df, how='left', on='Date')\n",
    "\n",
    "#     Заполнение пропусков\n",
    "    main_df.fillna(method='ffill', inplace=True)\n",
    "    main_df.fillna(method='backfill', inplace=True)\n",
    "\n",
    "    return main_df"
   ]
  },
  {
   "cell_type": "markdown",
   "metadata": {},
   "source": [
    "Портфель и риски в отдельных датафремах"
   ]
  },
  {
   "cell_type": "code",
   "execution_count": 209,
   "metadata": {
    "ExecuteTime": {
     "end_time": "2021-04-04T18:44:41.058161Z",
     "start_time": "2021-04-04T18:44:40.805146Z"
    }
   },
   "outputs": [],
   "source": [
    "prices = load_df()\n",
    "\n",
    "bonds = prices.iloc[:, 0:5]\n",
    "shares = prices.iloc[:, 5:15]\n",
    "currencies = prices.iloc[:, 15:17]\n",
    "risk_factors = prices.iloc[:, 17:]\n",
    "\n",
    "ret = prices.pct_change()\n",
    "ret.dropna(inplace=True)\n",
    "\n",
    "bonds_ret = ret.iloc[:, 0:5]\n",
    "shares_ret = ret.iloc[:, 5:15]\n",
    "currencies_ret = ret.iloc[:, 15:17]\n",
    "risk_factors_ret = ret.iloc[:, 17:]"
   ]
  },
  {
   "cell_type": "markdown",
   "metadata": {},
   "source": [
    "# Составляем портфель"
   ]
  },
  {
   "cell_type": "code",
   "execution_count": 306,
   "metadata": {
    "ExecuteTime": {
     "end_time": "2021-04-04T19:20:49.948214Z",
     "start_time": "2021-04-04T19:20:49.938213Z"
    }
   },
   "outputs": [],
   "source": [
    "position_0 = np.array([10e6] * 5 + [1e6] * 10 + [10e6] * 2)\n",
    "day_prices = prices.iloc[0, :17]\n",
    "true_qty = position_0 / day_prices\n",
    "qty = np.round(position_0 / day_prices, 0).astype(int)\n",
    "portfolio_qty_shares_true = (true_qty * portfolio_prices) / (true_qty * portfolio_prices).sum()"
   ]
  },
  {
   "cell_type": "code",
   "execution_count": 307,
   "metadata": {
    "ExecuteTime": {
     "end_time": "2021-04-04T19:20:50.676256Z",
     "start_time": "2021-04-04T19:20:50.669255Z"
    }
   },
   "outputs": [
    {
     "data": {
      "text/plain": [
       "SU26205RMFS3    0.1250\n",
       "SU26209RMFS5    0.1250\n",
       "SU26212RMFS9    0.1250\n",
       "SU26215RMFS2    0.1250\n",
       "SU26217RMFS8    0.1250\n",
       "SBER            0.0125\n",
       "GAZP            0.0125\n",
       "YNDX            0.0125\n",
       "MGNT            0.0125\n",
       "GMKN            0.0125\n",
       "MTSS            0.0125\n",
       "PIKK            0.0125\n",
       "AFLT            0.0125\n",
       "POLY            0.0125\n",
       "RSTI            0.0125\n",
       "USD             0.1250\n",
       "CNY             0.1250\n",
       "Name: 2017-01-03 00:00:00, dtype: float64"
      ]
     },
     "execution_count": 307,
     "metadata": {},
     "output_type": "execute_result"
    }
   ],
   "source": [
    "portfolio_qty_shares_true"
   ]
  },
  {
   "cell_type": "code",
   "execution_count": 308,
   "metadata": {
    "ExecuteTime": {
     "end_time": "2021-04-04T19:20:51.788319Z",
     "start_time": "2021-04-04T19:20:51.784319Z"
    }
   },
   "outputs": [],
   "source": [
    "all_qty = qty\n",
    "all_price = day_prices"
   ]
  },
  {
   "cell_type": "code",
   "execution_count": 309,
   "metadata": {
    "ExecuteTime": {
     "end_time": "2021-04-04T19:20:53.713429Z",
     "start_time": "2021-04-04T19:20:52.495360Z"
    }
   },
   "outputs": [],
   "source": [
    "for t in range(1, prices.shape[0]):\n",
    "    day_prices = prices.iloc[t-1, :17]\n",
    "    wts = (qty * day_prices) / np.sum(qty * day_prices)\n",
    "    delta_wts = portfolio_qty_shares_true / wts\n",
    "    qty = np.round(qty * delta_wts, 0).astype(int)\n",
    "    all_qty = np.vstack((all_qty, qty))\n",
    "    all_price = np.vstack((all_price, day_prices))"
   ]
  },
  {
   "cell_type": "code",
   "execution_count": 310,
   "metadata": {
    "ExecuteTime": {
     "end_time": "2021-04-04T19:20:55.496531Z",
     "start_time": "2021-04-04T19:20:55.490531Z"
    }
   },
   "outputs": [],
   "source": [
    "number_of_assets = pd.DataFrame(all_qty, columns=prices.iloc[:, :17].columns)\n",
    "prices_of_assets = pd.DataFrame(all_price, columns=prices.iloc[:, :17].columns)"
   ]
  },
  {
   "cell_type": "code",
   "execution_count": 314,
   "metadata": {
    "ExecuteTime": {
     "end_time": "2021-04-04T19:23:03.435849Z",
     "start_time": "2021-04-04T19:23:03.432849Z"
    }
   },
   "outputs": [],
   "source": [
    "total_sum = pd.DataFrame(all_qty*all_price, columns=prices.iloc[:, :17].columns)"
   ]
  },
  {
   "cell_type": "code",
   "execution_count": 316,
   "metadata": {
    "ExecuteTime": {
     "end_time": "2021-04-04T19:23:24.660063Z",
     "start_time": "2021-04-04T19:23:24.624061Z"
    }
   },
   "outputs": [
    {
     "data": {
      "text/html": [
       "<div>\n",
       "<style scoped>\n",
       "    .dataframe tbody tr th:only-of-type {\n",
       "        vertical-align: middle;\n",
       "    }\n",
       "\n",
       "    .dataframe tbody tr th {\n",
       "        vertical-align: top;\n",
       "    }\n",
       "\n",
       "    .dataframe thead th {\n",
       "        text-align: right;\n",
       "    }\n",
       "</style>\n",
       "<table border=\"1\" class=\"dataframe\">\n",
       "  <thead>\n",
       "    <tr style=\"text-align: right;\">\n",
       "      <th></th>\n",
       "      <th>SU26205RMFS3</th>\n",
       "      <th>SU26209RMFS5</th>\n",
       "      <th>SU26212RMFS9</th>\n",
       "      <th>SU26215RMFS2</th>\n",
       "      <th>SU26217RMFS8</th>\n",
       "      <th>SBER</th>\n",
       "      <th>GAZP</th>\n",
       "      <th>YNDX</th>\n",
       "      <th>MGNT</th>\n",
       "      <th>GMKN</th>\n",
       "      <th>MTSS</th>\n",
       "      <th>PIKK</th>\n",
       "      <th>AFLT</th>\n",
       "      <th>POLY</th>\n",
       "      <th>RSTI</th>\n",
       "      <th>USD</th>\n",
       "      <th>CNY</th>\n",
       "    </tr>\n",
       "  </thead>\n",
       "  <tbody>\n",
       "    <tr>\n",
       "      <th>0</th>\n",
       "      <td>1.000004e+07</td>\n",
       "      <td>1.000002e+07</td>\n",
       "      <td>9.999994e+06</td>\n",
       "      <td>1.000000e+07</td>\n",
       "      <td>9.999999e+06</td>\n",
       "      <td>9.999548e+05</td>\n",
       "      <td>9.999424e+05</td>\n",
       "      <td>1.000246e+06</td>\n",
       "      <td>1.000197e+06</td>\n",
       "      <td>9.975757e+05</td>\n",
       "      <td>1.000027e+06</td>\n",
       "      <td>9.999310e+05</td>\n",
       "      <td>9.999374e+05</td>\n",
       "      <td>9.996933e+05</td>\n",
       "      <td>1.000000e+06</td>\n",
       "      <td>9.999989e+06</td>\n",
       "      <td>9.999999e+06</td>\n",
       "    </tr>\n",
       "    <tr>\n",
       "      <th>1</th>\n",
       "      <td>9.999647e+06</td>\n",
       "      <td>9.999727e+06</td>\n",
       "      <td>9.999719e+06</td>\n",
       "      <td>9.999719e+06</td>\n",
       "      <td>9.999705e+06</td>\n",
       "      <td>9.999548e+05</td>\n",
       "      <td>9.999424e+05</td>\n",
       "      <td>1.000246e+06</td>\n",
       "      <td>1.000197e+06</td>\n",
       "      <td>9.975757e+05</td>\n",
       "      <td>1.000027e+06</td>\n",
       "      <td>9.999310e+05</td>\n",
       "      <td>9.999374e+05</td>\n",
       "      <td>9.996933e+05</td>\n",
       "      <td>9.999697e+05</td>\n",
       "      <td>9.999683e+06</td>\n",
       "      <td>9.999691e+06</td>\n",
       "    </tr>\n",
       "    <tr>\n",
       "      <th>2</th>\n",
       "      <td>9.996404e+06</td>\n",
       "      <td>9.996403e+06</td>\n",
       "      <td>9.996424e+06</td>\n",
       "      <td>9.996361e+06</td>\n",
       "      <td>9.996370e+06</td>\n",
       "      <td>9.996598e+05</td>\n",
       "      <td>9.996056e+05</td>\n",
       "      <td>9.994400e+05</td>\n",
       "      <td>9.976027e+05</td>\n",
       "      <td>9.996008e+05</td>\n",
       "      <td>9.997099e+05</td>\n",
       "      <td>9.996513e+05</td>\n",
       "      <td>9.995957e+05</td>\n",
       "      <td>9.994833e+05</td>\n",
       "      <td>9.996402e+05</td>\n",
       "      <td>9.996429e+06</td>\n",
       "      <td>9.996395e+06</td>\n",
       "    </tr>\n",
       "    <tr>\n",
       "      <th>3</th>\n",
       "      <td>9.973051e+06</td>\n",
       "      <td>9.973017e+06</td>\n",
       "      <td>9.973038e+06</td>\n",
       "      <td>9.973024e+06</td>\n",
       "      <td>9.973022e+06</td>\n",
       "      <td>9.973288e+05</td>\n",
       "      <td>9.972452e+05</td>\n",
       "      <td>9.978440e+05</td>\n",
       "      <td>1.000270e+06</td>\n",
       "      <td>9.964904e+05</td>\n",
       "      <td>9.973773e+05</td>\n",
       "      <td>9.971822e+05</td>\n",
       "      <td>9.973455e+05</td>\n",
       "      <td>9.973153e+05</td>\n",
       "      <td>9.973025e+05</td>\n",
       "      <td>9.973023e+06</td>\n",
       "      <td>9.973026e+06</td>\n",
       "    </tr>\n",
       "    <tr>\n",
       "      <th>4</th>\n",
       "      <td>9.945629e+06</td>\n",
       "      <td>9.945613e+06</td>\n",
       "      <td>9.945609e+06</td>\n",
       "      <td>9.945586e+06</td>\n",
       "      <td>9.945598e+06</td>\n",
       "      <td>9.945684e+05</td>\n",
       "      <td>9.945077e+05</td>\n",
       "      <td>9.940700e+05</td>\n",
       "      <td>9.942148e+05</td>\n",
       "      <td>9.911925e+05</td>\n",
       "      <td>9.945873e+05</td>\n",
       "      <td>9.945176e+05</td>\n",
       "      <td>9.945809e+05</td>\n",
       "      <td>9.944850e+05</td>\n",
       "      <td>9.945599e+05</td>\n",
       "      <td>9.945602e+06</td>\n",
       "      <td>9.945603e+06</td>\n",
       "    </tr>\n",
       "    <tr>\n",
       "      <th>...</th>\n",
       "      <td>...</td>\n",
       "      <td>...</td>\n",
       "      <td>...</td>\n",
       "      <td>...</td>\n",
       "      <td>...</td>\n",
       "      <td>...</td>\n",
       "      <td>...</td>\n",
       "      <td>...</td>\n",
       "      <td>...</td>\n",
       "      <td>...</td>\n",
       "      <td>...</td>\n",
       "      <td>...</td>\n",
       "      <td>...</td>\n",
       "      <td>...</td>\n",
       "      <td>...</td>\n",
       "      <td>...</td>\n",
       "      <td>...</td>\n",
       "    </tr>\n",
       "    <tr>\n",
       "      <th>1003</th>\n",
       "      <td>1.241323e+07</td>\n",
       "      <td>1.241327e+07</td>\n",
       "      <td>1.241325e+07</td>\n",
       "      <td>1.241328e+07</td>\n",
       "      <td>1.241323e+07</td>\n",
       "      <td>1.241220e+06</td>\n",
       "      <td>1.241396e+06</td>\n",
       "      <td>1.241244e+06</td>\n",
       "      <td>1.242241e+06</td>\n",
       "      <td>1.237020e+06</td>\n",
       "      <td>1.241449e+06</td>\n",
       "      <td>1.241170e+06</td>\n",
       "      <td>1.241309e+06</td>\n",
       "      <td>1.241219e+06</td>\n",
       "      <td>1.241328e+06</td>\n",
       "      <td>1.241328e+07</td>\n",
       "      <td>1.241327e+07</td>\n",
       "    </tr>\n",
       "    <tr>\n",
       "      <th>1004</th>\n",
       "      <td>1.236610e+07</td>\n",
       "      <td>1.236616e+07</td>\n",
       "      <td>1.236610e+07</td>\n",
       "      <td>1.236615e+07</td>\n",
       "      <td>1.236613e+07</td>\n",
       "      <td>1.236710e+06</td>\n",
       "      <td>1.236584e+06</td>\n",
       "      <td>1.235000e+06</td>\n",
       "      <td>1.238162e+06</td>\n",
       "      <td>1.231190e+06</td>\n",
       "      <td>1.236714e+06</td>\n",
       "      <td>1.236794e+06</td>\n",
       "      <td>1.236588e+06</td>\n",
       "      <td>1.237071e+06</td>\n",
       "      <td>1.236612e+06</td>\n",
       "      <td>1.236611e+07</td>\n",
       "      <td>1.236613e+07</td>\n",
       "    </tr>\n",
       "    <tr>\n",
       "      <th>1005</th>\n",
       "      <td>1.233874e+07</td>\n",
       "      <td>1.233876e+07</td>\n",
       "      <td>1.233875e+07</td>\n",
       "      <td>1.233870e+07</td>\n",
       "      <td>1.233874e+07</td>\n",
       "      <td>1.233851e+06</td>\n",
       "      <td>1.233787e+06</td>\n",
       "      <td>1.231712e+06</td>\n",
       "      <td>1.234243e+06</td>\n",
       "      <td>1.238186e+06</td>\n",
       "      <td>1.233846e+06</td>\n",
       "      <td>1.233874e+06</td>\n",
       "      <td>1.233875e+06</td>\n",
       "      <td>1.233646e+06</td>\n",
       "      <td>1.233873e+06</td>\n",
       "      <td>1.233873e+07</td>\n",
       "      <td>1.233872e+07</td>\n",
       "    </tr>\n",
       "    <tr>\n",
       "      <th>1006</th>\n",
       "      <td>1.235627e+07</td>\n",
       "      <td>1.235621e+07</td>\n",
       "      <td>1.235618e+07</td>\n",
       "      <td>1.235624e+07</td>\n",
       "      <td>1.235624e+07</td>\n",
       "      <td>1.235660e+06</td>\n",
       "      <td>1.235666e+06</td>\n",
       "      <td>1.233198e+06</td>\n",
       "      <td>1.233744e+06</td>\n",
       "      <td>1.229072e+06</td>\n",
       "      <td>1.235667e+06</td>\n",
       "      <td>1.235852e+06</td>\n",
       "      <td>1.235624e+06</td>\n",
       "      <td>1.235177e+06</td>\n",
       "      <td>1.235623e+06</td>\n",
       "      <td>1.235624e+07</td>\n",
       "      <td>1.235623e+07</td>\n",
       "    </tr>\n",
       "    <tr>\n",
       "      <th>1007</th>\n",
       "      <td>1.236762e+07</td>\n",
       "      <td>1.236762e+07</td>\n",
       "      <td>1.236767e+07</td>\n",
       "      <td>1.236769e+07</td>\n",
       "      <td>1.236767e+07</td>\n",
       "      <td>1.236787e+06</td>\n",
       "      <td>1.236771e+06</td>\n",
       "      <td>1.235927e+06</td>\n",
       "      <td>1.235290e+06</td>\n",
       "      <td>1.229176e+06</td>\n",
       "      <td>1.236845e+06</td>\n",
       "      <td>1.237062e+06</td>\n",
       "      <td>1.236784e+06</td>\n",
       "      <td>1.236571e+06</td>\n",
       "      <td>1.236767e+06</td>\n",
       "      <td>1.236768e+07</td>\n",
       "      <td>1.236767e+07</td>\n",
       "    </tr>\n",
       "  </tbody>\n",
       "</table>\n",
       "<p>1008 rows × 17 columns</p>\n",
       "</div>"
      ],
      "text/plain": [
       "      SU26205RMFS3  SU26209RMFS5  SU26212RMFS9  SU26215RMFS2  SU26217RMFS8  \\\n",
       "0     1.000004e+07  1.000002e+07  9.999994e+06  1.000000e+07  9.999999e+06   \n",
       "1     9.999647e+06  9.999727e+06  9.999719e+06  9.999719e+06  9.999705e+06   \n",
       "2     9.996404e+06  9.996403e+06  9.996424e+06  9.996361e+06  9.996370e+06   \n",
       "3     9.973051e+06  9.973017e+06  9.973038e+06  9.973024e+06  9.973022e+06   \n",
       "4     9.945629e+06  9.945613e+06  9.945609e+06  9.945586e+06  9.945598e+06   \n",
       "...            ...           ...           ...           ...           ...   \n",
       "1003  1.241323e+07  1.241327e+07  1.241325e+07  1.241328e+07  1.241323e+07   \n",
       "1004  1.236610e+07  1.236616e+07  1.236610e+07  1.236615e+07  1.236613e+07   \n",
       "1005  1.233874e+07  1.233876e+07  1.233875e+07  1.233870e+07  1.233874e+07   \n",
       "1006  1.235627e+07  1.235621e+07  1.235618e+07  1.235624e+07  1.235624e+07   \n",
       "1007  1.236762e+07  1.236762e+07  1.236767e+07  1.236769e+07  1.236767e+07   \n",
       "\n",
       "              SBER          GAZP          YNDX          MGNT          GMKN  \\\n",
       "0     9.999548e+05  9.999424e+05  1.000246e+06  1.000197e+06  9.975757e+05   \n",
       "1     9.999548e+05  9.999424e+05  1.000246e+06  1.000197e+06  9.975757e+05   \n",
       "2     9.996598e+05  9.996056e+05  9.994400e+05  9.976027e+05  9.996008e+05   \n",
       "3     9.973288e+05  9.972452e+05  9.978440e+05  1.000270e+06  9.964904e+05   \n",
       "4     9.945684e+05  9.945077e+05  9.940700e+05  9.942148e+05  9.911925e+05   \n",
       "...            ...           ...           ...           ...           ...   \n",
       "1003  1.241220e+06  1.241396e+06  1.241244e+06  1.242241e+06  1.237020e+06   \n",
       "1004  1.236710e+06  1.236584e+06  1.235000e+06  1.238162e+06  1.231190e+06   \n",
       "1005  1.233851e+06  1.233787e+06  1.231712e+06  1.234243e+06  1.238186e+06   \n",
       "1006  1.235660e+06  1.235666e+06  1.233198e+06  1.233744e+06  1.229072e+06   \n",
       "1007  1.236787e+06  1.236771e+06  1.235927e+06  1.235290e+06  1.229176e+06   \n",
       "\n",
       "              MTSS          PIKK          AFLT          POLY          RSTI  \\\n",
       "0     1.000027e+06  9.999310e+05  9.999374e+05  9.996933e+05  1.000000e+06   \n",
       "1     1.000027e+06  9.999310e+05  9.999374e+05  9.996933e+05  9.999697e+05   \n",
       "2     9.997099e+05  9.996513e+05  9.995957e+05  9.994833e+05  9.996402e+05   \n",
       "3     9.973773e+05  9.971822e+05  9.973455e+05  9.973153e+05  9.973025e+05   \n",
       "4     9.945873e+05  9.945176e+05  9.945809e+05  9.944850e+05  9.945599e+05   \n",
       "...            ...           ...           ...           ...           ...   \n",
       "1003  1.241449e+06  1.241170e+06  1.241309e+06  1.241219e+06  1.241328e+06   \n",
       "1004  1.236714e+06  1.236794e+06  1.236588e+06  1.237071e+06  1.236612e+06   \n",
       "1005  1.233846e+06  1.233874e+06  1.233875e+06  1.233646e+06  1.233873e+06   \n",
       "1006  1.235667e+06  1.235852e+06  1.235624e+06  1.235177e+06  1.235623e+06   \n",
       "1007  1.236845e+06  1.237062e+06  1.236784e+06  1.236571e+06  1.236767e+06   \n",
       "\n",
       "               USD           CNY  \n",
       "0     9.999989e+06  9.999999e+06  \n",
       "1     9.999683e+06  9.999691e+06  \n",
       "2     9.996429e+06  9.996395e+06  \n",
       "3     9.973023e+06  9.973026e+06  \n",
       "4     9.945602e+06  9.945603e+06  \n",
       "...            ...           ...  \n",
       "1003  1.241328e+07  1.241327e+07  \n",
       "1004  1.236611e+07  1.236613e+07  \n",
       "1005  1.233873e+07  1.233872e+07  \n",
       "1006  1.235624e+07  1.235623e+07  \n",
       "1007  1.236768e+07  1.236767e+07  \n",
       "\n",
       "[1008 rows x 17 columns]"
      ]
     },
     "execution_count": 316,
     "metadata": {},
     "output_type": "execute_result"
    }
   ],
   "source": [
    "total_sum"
   ]
  },
  {
   "cell_type": "code",
   "execution_count": 317,
   "metadata": {
    "ExecuteTime": {
     "end_time": "2021-04-04T19:24:09.360620Z",
     "start_time": "2021-04-04T19:24:09.033601Z"
    }
   },
   "outputs": [
    {
     "data": {
      "image/png": "[encoded data removed]",
      "text/plain": [
       "<Figure size 1152x504 with 1 Axes>"
      ]
     },
     "metadata": {
      "needs_background": "light"
     },
     "output_type": "display_data"
    }
   ],
   "source": [
    "total_sum.iloc[:, :5].plot(figsize=(16, 7))\n",
    "\n",
    "plt.show()"
   ]
  }
 ],
 "metadata": {
  "kernelspec": {
   "display_name": "Python 3",
   "language": "python",
   "name": "python3"
  },
  "language_info": {
   "codemirror_mode": {
    "name": "ipython",
    "version": 3
   },
   "file_extension": ".py",
   "mimetype": "text/x-python",
   "name": "python",
   "nbconvert_exporter": "python",
   "pygments_lexer": "ipython3",
   "version": "3.8.5"
  }
 },
 "nbformat": 4,
 "nbformat_minor": 2
}
