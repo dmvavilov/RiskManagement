{
 "cells": [
  {
   "cell_type": "code",
   "execution_count": 2,
   "metadata": {
    "ExecuteTime": {
     "end_time": "2021-06-06T18:31:00.312946Z",
     "start_time": "2021-06-06T18:30:58.228827Z"
    }
   },
   "outputs": [],
   "source": [
    "import numpy as np\n",
    "import pandas as pd\n",
    "from datetime import datetime\n",
    "import gzip\n",
    "import seaborn as sns\n",
    "import matplotlib.pyplot as plt\n",
    "\n",
    "import warnings\n",
    "warnings.filterwarnings(\"ignore\")\n",
    "\n",
    "from tqdm import tqdm\n",
    "from collections import defaultdict\n",
    "\n",
    "from sklearn.linear_model import LogisticRegression\n",
    "import lightgbm as lgb\n",
    "\n",
    "from sklearn.compose import ColumnTransformer\n",
    "from sklearn.preprocessing import LabelEncoder\n",
    "from sklearn.decomposition import PCA\n",
    "from sklearn.preprocessing import OneHotEncoder\n",
    "from sklearn.compose import ColumnTransformer\n",
    "from sklearn.metrics import auc, roc_auc_score, roc_curve, average_precision_score\n",
    "from sklearn.metrics import precision_recall_curve, classification_report, accuracy_score\n",
    "from sklearn.metrics import f1_score, recall_score, precision_score, roc_auc_score\n",
    "\n",
    "import optuna\n",
    "from optuna.samplers import TPESampler\n",
    "\n",
    "def plot_AUC(y_real, predictions):\n",
    "    AUC_PR_mean = []\n",
    "    AUC_ROC_mean = []\n",
    "    for y_r, y_p in zip(y_real, predictions):\n",
    "        \n",
    "        positive = y_r.sum()\n",
    "        \n",
    "        plt.figure(figsize=(16, 8))\n",
    "\n",
    "        plt.subplot(121)\n",
    "        precision, recall, thresholds = precision_recall_curve(y_r, y_p)\n",
    "        plt.plot(recall, precision, lw = 1.5, label='PR curve')\n",
    "        plt.axhline(positive/y_r.shape[0], 0, 1, linestyle='--', color='r')\n",
    "        plt.xlim([0.0, 1.0])\n",
    "        plt.ylim([0.0, 1.0])\n",
    "        plt.xlabel('Recall')\n",
    "        plt.ylabel('Precision')\n",
    "        plt.title('PR curve')\n",
    "        plt.legend(['LightGBM', 'Random Classifier'])\n",
    "        plt.grid()\n",
    "\n",
    "        AUC_PR = auc(recall, precision)\n",
    "\n",
    "        plt.subplot(122)\n",
    "        fpr, tpr, thresholds = roc_curve(y_r, y_p)\n",
    "        plt.plot(fpr, tpr, lw=1.5, label='ROC curve')\n",
    "        plt.plot([0, 1], [0, 1], linestyle='--', color='r')\n",
    "        plt.xlim([0.0, 1.0])\n",
    "        plt.ylim([0.0, 1.02])\n",
    "        plt.xlabel('False Positive Rate')\n",
    "        plt.ylabel('True Positive Rate')\n",
    "        plt.title('ROC curve')\n",
    "        plt.legend(['LightGBM', 'Random Classifier'])\n",
    "\n",
    "        AUC_ROC = auc(fpr, tpr)\n",
    "        \n",
    "        plt.grid()\n",
    "        plt.tight_layout()\n",
    "        plt.show()\n",
    "        \n",
    "        print('AUC-PR - {}'.format(round(AUC_PR, 5)))\n",
    "        print('AUC-ROC - {}'.format(round(AUC_ROC, 5)))\n",
    "        \n",
    "        AUC_PR_mean.append(AUC_PR)\n",
    "        AUC_ROC_mean.append(AUC_ROC)\n",
    "    \n",
    "    print('MEAN AUC-PR - {}'.format(round(np.array(AUC_PR_mean).mean(), 5)))\n",
    "    print('MEAN AUC-ROC - {}'.format(round(np.array(AUC_ROC_mean).mean(), 5)))\n",
    "    \n",
    "    \n",
    "def print_results(study):\n",
    "    print(\"Number of finished trials: {}\".format(len(study.trials)))\n",
    "    print(\"Best trial:\")\n",
    "    trial = study.best_trial\n",
    "    print(\"  AUC_ROC: {}\".format(trial.value))\n",
    "    print(\"  Params: \")\n",
    "    for key, value in trial.params.items():\n",
    "        print(\"    {}: {}\".format(key, value))"
   ]
  },
  {
   "cell_type": "markdown",
   "metadata": {},
   "source": [
    "# 0. Обработка сырых данных"
   ]
  },
  {
   "cell_type": "code",
   "execution_count": 3,
   "metadata": {
    "ExecuteTime": {
     "end_time": "2021-06-06T18:31:00.315946Z",
     "start_time": "2021-06-06T18:31:00.313946Z"
    }
   },
   "outputs": [],
   "source": [
    "# with gzip.open('accepted_2007_to_2018Q4.csv.gz', 'rb') as f:\n",
    "#     accepted = pd.read_csv(f)"
   ]
  },
  {
   "cell_type": "markdown",
   "metadata": {},
   "source": [
    "Сразу удалим топ N признаков, имеющих наибольшее количество пропусков (более 50 тыс.)."
   ]
  },
  {
   "cell_type": "code",
   "execution_count": null,
   "metadata": {
    "ExecuteTime": {
     "end_time": "2021-06-06T17:13:29.374928Z",
     "start_time": "2021-06-06T17:13:24.833668Z"
    }
   },
   "outputs": [],
   "source": [
    "accepted_nulls = accepted.isnull().sum().sort_values(ascending=False)\n",
    "cols_to_drop = accepted_nulls[accepted_nulls > 50000].index\n",
    "accepted = accepted.drop(columns=cols_to_drop)"
   ]
  },
  {
   "cell_type": "markdown",
   "metadata": {},
   "source": [
    "Описание признаков можно найти здесь  https://rstudio-pubs-static.s3.amazonaws.com/115829_32417d32dbce41eab3eeaf608a0eef9d.html\n",
    "\n",
    "или здесь https://github.com/dosei1/Lending-Club-Loan-Data/blob/master/LCDataDictionary.csv"
   ]
  },
  {
   "cell_type": "markdown",
   "metadata": {},
   "source": [
    "Удалим дополнительно признаки, которые не несут смысла для модели (или очень сложно использовать) и в которых возможен лик"
   ]
  },
  {
   "cell_type": "code",
   "execution_count": null,
   "metadata": {
    "ExecuteTime": {
     "end_time": "2021-06-06T17:13:29.380928Z",
     "start_time": "2021-06-06T17:13:29.376928Z"
    }
   },
   "outputs": [],
   "source": [
    "col_drop = ['funded_amnt', 'funded_amnt_inv', 'pymnt_plan', 'url', 'delinq_2yrs', 'inq_last_6mths', 'pub_rec',\n",
    "           'revol_bal', 'revol_util', 'initial_list_status', 'out_prncp', 'out_prncp_inv', 'total_pymnt', \n",
    "            'total_pymnt_inv', 'total_rec_prncp', 'total_rec_int', 'total_rec_late_fee', 'recoveries', \n",
    "            'collection_recovery_fee', 'last_pymnt_d', 'last_pymnt_amnt', 'last_credit_pull_d', \n",
    "            'last_fico_range_high', 'last_fico_range_low', 'collections_12_mths_ex_med',\n",
    "           'acc_now_delinq', 'chargeoff_within_12_mths', 'delinq_amnt', 'hardship_flag', 'debt_settlement_flag']"
   ]
  },
  {
   "cell_type": "code",
   "execution_count": null,
   "metadata": {
    "ExecuteTime": {
     "end_time": "2021-06-06T17:13:29.965962Z",
     "start_time": "2021-06-06T17:13:29.381928Z"
    }
   },
   "outputs": [],
   "source": [
    "accepted = accepted.drop(columns=col_drop)"
   ]
  },
  {
   "cell_type": "markdown",
   "metadata": {},
   "source": [
    "Описание признаков:\n",
    "1. id - id клиента\n",
    "1. loan_amnt - сумма долга (сильно скорелирован с funded_amnt и funded_amnt_inv)\n",
    "1. term - срок кредита\n",
    "1. int_rate - % ставка кредита\n",
    "1. installment - ежемесячный платеж \n",
    "1. grade - кредитный рейтинг заемщика (должна проставляться до выдачи кредита, те. можно использовать)\n",
    "1. sub_grade - подгруппа кредитного рейтинг \n",
    "1. home_ownership - тип жилья клиента \n",
    "1. annual_inc - годовой доход клиента \n",
    "1. verification_status - статус дохода клиента (подтвержден или нет)\n",
    "1. issue_d - дата выдачи кредита\n",
    "1. loan_status\t- статус заявки (наша целевая переменная)\n",
    "1. purpose - на что взят кредит \n",
    "1. title - подкатегория взятия кредита\n",
    "1. zip_code - почтовый индекс\n",
    "1. addr_state - штат клиента\n",
    "1. dti - Debt-to-income ratio, долг к доходу\n",
    "1. earliest_cr_line - The date the borrower's earliest reported (дата первого кредита)\n",
    "1. fico_range_low - нижнее значение кредитного рейтинга ФИКО\n",
    "1. fico_range_high - верхнее значение кредитного рейтинга ФИКО\n",
    "1. open_acc - Количество открытых кредитных линий в кредитное досье заемщика.\n",
    "1. total_acc - Общее количество кредитных линий в досье заемщика\n",
    "1. policy_code - код продукта (общедоступность продукта)\n",
    "1. application_type - тип заема (индивидуальный или в группе)\n",
    "1. pub_rec_bankruptcies - количество несостоятельностей клиента (вроде можно использовать, но может быть и лик)\n",
    "1. tax_liens - количество налогового залога\n",
    "1. disbursement_method - как были выданы деньги"
   ]
  },
  {
   "cell_type": "markdown",
   "metadata": {},
   "source": [
    "# Предобработка признаков"
   ]
  },
  {
   "cell_type": "markdown",
   "metadata": {},
   "source": [
    "Оставим только то, что будем предсказывать:\n",
    "- Fully Paid - Кредит полностью выплачен\n",
    "- Charged Off,  Does not meet the credit policy. Status:Charged Off, Default - дефолт"
   ]
  },
  {
   "cell_type": "code",
   "execution_count": null,
   "metadata": {
    "ExecuteTime": {
     "end_time": "2021-06-06T17:13:31.011021Z",
     "start_time": "2021-06-06T17:13:29.966962Z"
    }
   },
   "outputs": [],
   "source": [
    "accepted = accepted[accepted.loan_status.isin(['Fully Paid', 'Charged Off', 'Default',\n",
    "       'Does not meet the credit policy. Status:Charged Off'])]\n",
    "accepted.loan_status = accepted.loan_status.apply(lambda x: 0 if x =='Fully Paid' else 1)"
   ]
  },
  {
   "cell_type": "markdown",
   "metadata": {},
   "source": [
    "Приведение признаков к нормальной форме:"
   ]
  },
  {
   "cell_type": "code",
   "execution_count": null,
   "metadata": {
    "ExecuteTime": {
     "end_time": "2021-06-06T17:13:33.916188Z",
     "start_time": "2021-06-06T17:13:31.012021Z"
    }
   },
   "outputs": [],
   "source": [
    "accepted.id = accepted.id.astype(np.int64)\n",
    "accepted.term = accepted.term.apply(lambda x: x[0:3]).astype(int)\n",
    "\n",
    "grades = sorted(accepted.grade.unique())\n",
    "grades = {k:v for v, k in enumerate(grades)}\n",
    "accepted.grade = accepted.grade.map(grades)\n",
    "\n",
    "grades = sorted(accepted.sub_grade.unique())\n",
    "grades = {k:v for v, k in enumerate(grades)}\n",
    "accepted.sub_grade = accepted.sub_grade.map(grades)\n",
    "\n",
    "zip_code = accepted.zip_code.value_counts().head(50).index\n",
    "accepted.zip_code = accepted.zip_code.apply(lambda x: x[:3] if x in zip_code else 0).astype(int)\n",
    "\n",
    "accepted.earliest_cr_line = accepted.earliest_cr_line.astype(np.datetime64)\n",
    "accepted.issue_d = accepted.issue_d.astype(np.datetime64)"
   ]
  },
  {
   "cell_type": "code",
   "execution_count": null,
   "metadata": {
    "ExecuteTime": {
     "end_time": "2021-06-06T17:13:36.732349Z",
     "start_time": "2021-06-06T17:13:33.917188Z"
    }
   },
   "outputs": [],
   "source": [
    "class MultiColumnLabelEncoder:\n",
    "    def __init__(self,columns = None):\n",
    "        self.columns = columns \n",
    "        \n",
    "    def fit(self,X,y=None):\n",
    "        return self \n",
    "\n",
    "    def transform(self,X):\n",
    "        '''\n",
    "        Transforms columns of X specified in self.columns using\n",
    "        LabelEncoder(). If no columns specified, transforms all\n",
    "        columns in X.\n",
    "        '''\n",
    "        output = X.copy()\n",
    "        if self.columns is not None:\n",
    "            for col in self.columns:\n",
    "                output[col] = LabelEncoder().fit_transform(output[col])\n",
    "        else:\n",
    "            for colname,col in output.iteritems():\n",
    "                output[colname] = LabelEncoder().fit_transform(col)\n",
    "        return output\n",
    "\n",
    "    def fit_transform(self,X,y=None):\n",
    "        return self.fit(X,y).transform(X)\n",
    "    \n",
    "    \n",
    "cat = ['home_ownership', 'verification_status', 'purpose', 'title', 'zip_code', \n",
    "       'addr_state', 'application_type', 'disbursement_method']   \n",
    "accepted = MultiColumnLabelEncoder(columns = cat).fit_transform(accepted)"
   ]
  },
  {
   "cell_type": "code",
   "execution_count": null,
   "metadata": {
    "ExecuteTime": {
     "end_time": "2021-06-06T17:13:37.668402Z",
     "start_time": "2021-06-06T17:13:36.735349Z"
    }
   },
   "outputs": [],
   "source": [
    "accepted = accepted.sort_values(by='issue_d')"
   ]
  },
  {
   "cell_type": "markdown",
   "metadata": {},
   "source": [
    "#### Заполнение пропусков"
   ]
  },
  {
   "cell_type": "code",
   "execution_count": null,
   "metadata": {
    "ExecuteTime": {
     "end_time": "2021-06-06T17:43:19.632325Z",
     "start_time": "2021-06-06T17:43:19.521318Z"
    }
   },
   "outputs": [],
   "source": [
    "accepted.dti.fillna(accepted.dti.mean(), inplace = True)\n",
    "accepted['earliest_cr_before_this'] = (accepted.issue_d  - accepted.earliest_cr_line)\n",
    "accepted.earliest_cr_before_this = accepted.earliest_cr_before_this.apply(lambda x: x.days).fillna(0)\n",
    "accepted = accepted.drop(['earliest_cr_line'], axis=1)\n",
    "accepted.total_acc.fillna(0, inplace = True)\n",
    "accepted.pub_rec_bankruptcies.fillna(0, inplace = True)\n",
    "accepted.tax_liens.fillna(0, inplace = True)\n",
    "accepted.open_acc.fillna(0, inplace = True)\n",
    "accepted.policy_code.fillna(0, inplace = True)"
   ]
  },
  {
   "cell_type": "code",
   "execution_count": null,
   "metadata": {
    "ExecuteTime": {
     "end_time": "2021-06-06T17:44:16.760592Z",
     "start_time": "2021-06-06T17:43:44.365739Z"
    }
   },
   "outputs": [],
   "source": [
    "accepted.to_csv('accepted.csv', index=False)"
   ]
  },
  {
   "cell_type": "markdown",
   "metadata": {},
   "source": [
    "# 1. Обработка данных для логистической регрессии"
   ]
  },
  {
   "cell_type": "code",
   "execution_count": 3,
   "metadata": {
    "ExecuteTime": {
     "end_time": "2021-06-06T17:54:48.807743Z",
     "start_time": "2021-06-06T17:54:44.937522Z"
    }
   },
   "outputs": [],
   "source": [
    "df = pd.read_csv('accepted.csv', parse_dates =['issue_d'])"
   ]
  },
  {
   "cell_type": "markdown",
   "metadata": {},
   "source": [
    "#### OHE"
   ]
  },
  {
   "cell_type": "code",
   "execution_count": 4,
   "metadata": {
    "ExecuteTime": {
     "end_time": "2021-06-06T17:54:52.150934Z",
     "start_time": "2021-06-06T17:54:48.808743Z"
    }
   },
   "outputs": [],
   "source": [
    "OHE_cat = ['home_ownership', 'verification_status', 'purpose', 'addr_state']   \n",
    "\n",
    "enc = OneHotEncoder(drop='first', sparse=False)\n",
    "for OHE in OHE_cat:\n",
    "    col = enc.fit_transform(df[OHE].values.reshape(-1, 1))\n",
    "    hot_col = pd.DataFrame(col, columns=[OHE + '_' + str(i) for i in range(col.shape[1])])\n",
    "    df = pd.concat([df, hot_col], axis=1)"
   ]
  },
  {
   "cell_type": "markdown",
   "metadata": {},
   "source": [
    "#### Выделим обучающую, валидационную и тестовую часть"
   ]
  },
  {
   "cell_type": "code",
   "execution_count": 5,
   "metadata": {
    "ExecuteTime": {
     "end_time": "2021-06-06T17:54:54.178050Z",
     "start_time": "2021-06-06T17:54:52.152935Z"
    }
   },
   "outputs": [],
   "source": [
    "test = df[df.issue_d >= np.datetime64('2017-01-01')].drop('issue_d', axis=1)\n",
    "train = df[df.issue_d < np.datetime64('2017-01-01')].drop('issue_d', axis=1)\n",
    "X_test, y_test = test.drop('loan_status', axis=1), test.loan_status\n",
    "X, y = train.drop('loan_status', axis=1), train.loan_status"
   ]
  },
  {
   "cell_type": "code",
   "execution_count": 6,
   "metadata": {
    "ExecuteTime": {
     "end_time": "2021-06-06T17:54:54.183051Z",
     "start_time": "2021-06-06T17:54:54.179050Z"
    }
   },
   "outputs": [],
   "source": [
    "train_inx = range(int(y.shape[0]*0.7)) \n",
    "val_inx = range(int(y.shape[0]*0.7)+1, y.shape[0])"
   ]
  },
  {
   "cell_type": "code",
   "execution_count": 7,
   "metadata": {
    "ExecuteTime": {
     "end_time": "2021-06-06T17:54:55.628133Z",
     "start_time": "2021-06-06T17:54:54.184051Z"
    }
   },
   "outputs": [],
   "source": [
    "X_train, X_val = X.loc[train_inx], X.loc[val_inx]\n",
    "X_global_train = pd.concat([X_train, X_val], ignore_index=True)\n",
    "y_train, y_val = y.loc[train_inx], y.loc[val_inx]\n",
    "y_global_train = pd.concat([y_train, y_val], ignore_index=True)"
   ]
  },
  {
   "cell_type": "markdown",
   "metadata": {},
   "source": [
    "## Запишем результаты"
   ]
  },
  {
   "cell_type": "code",
   "execution_count": 15,
   "metadata": {
    "ExecuteTime": {
     "end_time": "2021-06-06T19:54:11.435422Z",
     "start_time": "2021-06-06T19:54:11.426422Z"
    }
   },
   "outputs": [],
   "source": [
    "pos = y_global_train.sum() / y_global_train.shape[0] \n",
    "neg = (y_global_train.shape[0] - y_global_train.sum()) / y_global_train.shape[0]\n",
    "\n",
    "results = pd.DataFrame({'random_classifier': [0.5, 0.5, pos, 0.5, 0.5, neg**2+pos**2]})\n",
    "\n",
    "results.index = ['Precision', 'Recall', 'AUC-PR', 'AUC-ROC', 'F1_score', 'Accuracy']"
   ]
  },
  {
   "cell_type": "markdown",
   "metadata": {
    "ExecuteTime": {
     "end_time": "2021-06-06T16:05:33.603807Z",
     "start_time": "2021-06-06T16:05:33.599807Z"
    }
   },
   "source": [
    "### Логистическая регрессия"
   ]
  },
  {
   "cell_type": "code",
   "execution_count": 11,
   "metadata": {
    "ExecuteTime": {
     "end_time": "2021-06-06T18:26:19.210868Z",
     "start_time": "2021-06-06T18:26:19.207868Z"
    },
    "scrolled": true
   },
   "outputs": [],
   "source": [
    "# sampler=TPESampler(seed=10)\n",
    "\n",
    "# def objective_LR(trial):\n",
    "#     tol = trial.suggest_uniform('tol ', 1e-5, 1e-3)\n",
    "#     C = trial.suggest_uniform('C', 0.01, 1)\n",
    "    \n",
    "#     LR = LogisticRegression(tol=tol, C=C, max_iter=1000, n_jobs=-1, random_state=77, class_weight='balanced')\n",
    "#     LR.fit(X_train, y_train)\n",
    "#     preds = LR.predict_proba(X_val)[:,1]\n",
    "#     ROC_AUC = roc_auc_score(y_val, preds)\n",
    "#     return ROC_AUC\n",
    "\n",
    "# study_lr = optuna.create_study(direction=\"maximize\", sampler=sampler)\n",
    "# study_lr.optimize(objective_LR, n_trials=100, timeout=None, n_jobs=-1)"
   ]
  },
  {
   "cell_type": "code",
   "execution_count": 10,
   "metadata": {
    "ExecuteTime": {
     "end_time": "2021-06-06T18:25:51.750297Z",
     "start_time": "2021-06-06T18:25:51.587288Z"
    }
   },
   "outputs": [
    {
     "name": "stdout",
     "output_type": "stream",
     "text": [
      "Number of finished trials: 89\n",
      "Best trial:\n",
      "  AUC_ROC: 0.6010318992372939\n",
      "  Params: \n",
      "    tol : 0.0009632639105524963\n",
      "    C: 0.211577427610677\n"
     ]
    }
   ],
   "source": [
    "# print_results(study_lr)"
   ]
  },
  {
   "cell_type": "code",
   "execution_count": 12,
   "metadata": {
    "ExecuteTime": {
     "end_time": "2021-06-06T18:26:55.973971Z",
     "start_time": "2021-06-06T18:26:23.300102Z"
    }
   },
   "outputs": [
    {
     "name": "stdout",
     "output_type": "stream",
     "text": [
      "              precision    recall  f1-score   support\n",
      "\n",
      "           0       0.85      0.17      0.28    177596\n",
      "           1       0.23      0.90      0.36     48043\n",
      "\n",
      "    accuracy                           0.32    225639\n",
      "   macro avg       0.54      0.53      0.32    225639\n",
      "weighted avg       0.72      0.32      0.30    225639\n",
      "\n"
     ]
    },
    {
     "data": {
      "image/png": "[encoded data removed]",
      "text/plain": [
       "<Figure size 1152x576 with 2 Axes>"
      ]
     },
     "metadata": {
      "needs_background": "light"
     },
     "output_type": "display_data"
    },
    {
     "name": "stdout",
     "output_type": "stream",
     "text": [
      "AUC-PR - 0.26569\n",
      "AUC-ROC - 0.58665\n",
      "MEAN AUC-PR - 0.26569\n",
      "MEAN AUC-ROC - 0.58665\n"
     ]
    }
   ],
   "source": [
    "LR = LogisticRegression(penalty='l2', tol= 0.001, class_weight={0:1, 1:4}, C=0.21)\n",
    "LR.fit(X_global_train, y_global_train)\n",
    "preds = LR.predict_proba(X_test)[:,1]\n",
    "preds_0_1 = np.where((preds >= 0.5), 1, 0)\n",
    "\n",
    "precision = precision_score(y_test, preds_0_1, average='macro')\n",
    "recall = recall_score(y_test, preds_0_1, average='macro')\n",
    "AUC_PR = average_precision_score(y_test, preds)\n",
    "AUC_ROC = roc_auc_score(y_test, preds)\n",
    "f1 = f1_score(y_test, preds_0_1, average='macro')\n",
    "accuracy = accuracy_score(y_test, preds_0_1)\n",
    "results['Log_Reg'] = [precision, recall, AUC_PR, AUC_ROC, f1, accuracy]\n",
    "\n",
    "print(classification_report(y_test, np.where((preds >= 0.5), 1, 0)))\n",
    "plot_AUC([y_test], [preds])"
   ]
  },
  {
   "cell_type": "markdown",
   "metadata": {},
   "source": [
    "# 2. LightGBM"
   ]
  },
  {
   "cell_type": "code",
   "execution_count": 11,
   "metadata": {
    "ExecuteTime": {
     "end_time": "2021-06-06T19:45:35.838932Z",
     "start_time": "2021-06-06T19:45:31.165664Z"
    }
   },
   "outputs": [],
   "source": [
    "df = pd.read_csv('accepted.csv', parse_dates =['issue_d'])\n",
    "cat = ['home_ownership', 'verification_status', 'purpose', 'title', 'zip_code', \n",
    "       'addr_state', 'application_type', 'disbursement_method']   "
   ]
  },
  {
   "cell_type": "code",
   "execution_count": 12,
   "metadata": {
    "ExecuteTime": {
     "end_time": "2021-06-06T19:45:37.141006Z",
     "start_time": "2021-06-06T19:45:35.840932Z"
    }
   },
   "outputs": [],
   "source": [
    "test = df[df.issue_d >= np.datetime64('2017-01-01')].drop('issue_d', axis=1)\n",
    "train = df[df.issue_d < np.datetime64('2017-01-01')].drop('issue_d', axis=1)\n",
    "X_test, y_test = test.drop('loan_status', axis=1), test.loan_status\n",
    "X, y = train.drop('loan_status', axis=1), train.loan_status\n",
    "\n",
    "train_inx = range(int(y.shape[0]*0.7)) \n",
    "val_inx = range(int(y.shape[0]*0.7)+1, y.shape[0])\n",
    "\n",
    "X_train, X_val = X.loc[train_inx], X.loc[val_inx]\n",
    "X_global_train = pd.concat([X_train, X_val], ignore_index=True)\n",
    "y_train, y_val = y.loc[train_inx], y.loc[val_inx]\n",
    "y_global_train = pd.concat([y_train, y_val], ignore_index=True)"
   ]
  },
  {
   "cell_type": "code",
   "execution_count": 13,
   "metadata": {
    "ExecuteTime": {
     "end_time": "2021-06-06T19:45:37.165008Z",
     "start_time": "2021-06-06T19:45:37.143006Z"
    }
   },
   "outputs": [],
   "source": [
    "dtrain_global = lgb.Dataset(X_global_train, label=y_global_train, categorical_feature=cat, free_raw_data=False)\n",
    "dtrain = lgb.Dataset(X_train, label=y_train, categorical_feature=cat, free_raw_data=False)"
   ]
  },
  {
   "cell_type": "code",
   "execution_count": 7,
   "metadata": {
    "ExecuteTime": {
     "end_time": "2021-06-06T19:39:37.631443Z",
     "start_time": "2021-06-06T18:31:13.963727Z"
    },
    "collapsed": true
   },
   "outputs": [
    {
     "name": "stderr",
     "output_type": "stream",
     "text": [
      "\u001b[32m[I 2021-06-06 21:31:13,970]\u001b[0m A new study created in memory with name: no-name-54d51eec-fde8-4f29-b19b-03e19d36dc12\u001b[0m\n",
      "\u001b[32m[I 2021-06-06 21:32:56,781]\u001b[0m Trial 0 finished with value: 0.6893383753944304 and parameters: {'num_leaves': 35, 'min_child_samples': 49, 'max_depth': 88, 'learning_rate': 0.19611516302280074, 'reg_alpha': 0.07745207048000578, 'reg_lambda': 0.2270810253309193}. Best is trial 0 with value: 0.6893383753944304.\u001b[0m\n",
      "\u001b[32m[I 2021-06-06 21:33:16,061]\u001b[0m Trial 1 finished with value: 0.7020974152999314 and parameters: {'num_leaves': 32, 'min_child_samples': 37, 'max_depth': 31, 'learning_rate': 0.09943457503336395, 'reg_alpha': 0.32796079995341254, 'reg_lambda': 0.06297452237251017}. Best is trial 1 with value: 0.7020974152999314.\u001b[0m\n",
      "\u001b[32m[I 2021-06-06 21:35:34,560]\u001b[0m Trial 2 finished with value: 0.7145705456784679 and parameters: {'num_leaves': 94, 'min_child_samples': 8, 'max_depth': 32, 'learning_rate': 0.019000677791726275, 'reg_alpha': 0.24498015737069234, 'reg_lambda': 0.17768748573116006}. Best is trial 2 with value: 0.7145705456784679.\u001b[0m\n",
      "\u001b[32m[I 2021-06-06 21:36:24,912]\u001b[0m Trial 4 finished with value: 0.6983580266090494 and parameters: {'num_leaves': 12, 'min_child_samples': 72, 'max_depth': 86, 'learning_rate': 0.2975420262519884, 'reg_alpha': 0.08371696050191398, 'reg_lambda': 0.10993894075682835}. Best is trial 2 with value: 0.7145705456784679.\u001b[0m\n",
      "\u001b[32m[I 2021-06-06 21:36:47,608]\u001b[0m Trial 3 finished with value: 0.682528307929086 and parameters: {'num_leaves': 84, 'min_child_samples': 99, 'max_depth': 100, 'learning_rate': 0.17130788205679404, 'reg_alpha': 0.348225269582385, 'reg_lambda': 0.2446660820181856}. Best is trial 2 with value: 0.7145705456784679.\u001b[0m\n",
      "\u001b[32m[I 2021-06-06 21:38:11,706]\u001b[0m Trial 5 finished with value: 0.6644474186786602 and parameters: {'num_leaves': 57, 'min_child_samples': 89, 'max_depth': 96, 'learning_rate': 0.37625745017944845, 'reg_alpha': 0.29533050824442764, 'reg_lambda': 0.11121267434268874}. Best is trial 2 with value: 0.7145705456784679.\u001b[0m\n",
      "\u001b[32m[I 2021-06-06 21:38:53,315]\u001b[0m Trial 6 finished with value: 0.6949528391445555 and parameters: {'num_leaves': 61, 'min_child_samples': 20, 'max_depth': 84, 'learning_rate': 0.09411202519805043, 'reg_alpha': 0.014385136868570635, 'reg_lambda': 0.07099172808215462}. Best is trial 2 with value: 0.7145705456784679.\u001b[0m\n",
      "\u001b[32m[I 2021-06-06 21:39:54,625]\u001b[0m Trial 8 finished with value: 0.6747678473824923 and parameters: {'num_leaves': 33, 'min_child_samples': 13, 'max_depth': 32, 'learning_rate': 0.3495271591173749, 'reg_alpha': 0.377395219742111, 'reg_lambda': 0.03322358685034386}. Best is trial 2 with value: 0.7145705456784679.\u001b[0m\n",
      "\u001b[32m[I 2021-06-06 21:40:28,952]\u001b[0m Trial 7 finished with value: 0.6688935411902355 and parameters: {'num_leaves': 83, 'min_child_samples': 59, 'max_depth': 26, 'learning_rate': 0.2843738635796787, 'reg_alpha': 0.15486041998563777, 'reg_lambda': 0.2528605381355569}. Best is trial 2 with value: 0.7145705456784679.\u001b[0m\n",
      "\u001b[32m[I 2021-06-06 21:41:41,746]\u001b[0m Trial 10 finished with value: 0.6493611649958501 and parameters: {'num_leaves': 57, 'min_child_samples': 14, 'max_depth': 88, 'learning_rate': 0.36069081472485104, 'reg_alpha': 0.14496704617783002, 'reg_lambda': 0.13919849222050154}. Best is trial 2 with value: 0.7145705456784679.\u001b[0m\n",
      "\u001b[32m[I 2021-06-06 21:42:47,543]\u001b[0m Trial 9 finished with value: 0.6757138557930938 and parameters: {'num_leaves': 93, 'min_child_samples': 72, 'max_depth': 18, 'learning_rate': 0.20269011021795344, 'reg_alpha': 0.395482931749494, 'reg_lambda': 0.04505000357199844}. Best is trial 2 with value: 0.7145705456784679.\u001b[0m\n",
      "\u001b[32m[I 2021-06-06 21:43:34,325]\u001b[0m Trial 12 finished with value: 0.7147316505505352 and parameters: {'num_leaves': 4, 'min_child_samples': 35, 'max_depth': 49, 'learning_rate': 0.033208091556627545, 'reg_alpha': 0.26397041385052433, 'reg_lambda': 0.3780653142621105}. Best is trial 12 with value: 0.7147316505505352.\u001b[0m\n",
      "\u001b[32m[I 2021-06-06 21:44:15,076]\u001b[0m Trial 13 finished with value: 0.7114054063147847 and parameters: {'num_leaves': 3, 'min_child_samples': 2, 'max_depth': 56, 'learning_rate': 0.013238365649246867, 'reg_alpha': 0.25647166561294754, 'reg_lambda': 0.38778889425907925}. Best is trial 12 with value: 0.7147316505505352.\u001b[0m\n",
      "\u001b[32m[I 2021-06-06 21:44:37,221]\u001b[0m Trial 11 finished with value: 0.7141640555828995 and parameters: {'num_leaves': 95, 'min_child_samples': 30, 'max_depth': 6, 'learning_rate': 0.019261740401739003, 'reg_alpha': 0.2537119478931625, 'reg_lambda': 0.375171534736522}. Best is trial 12 with value: 0.7147316505505352.\u001b[0m\n",
      "\u001b[32m[I 2021-06-06 21:46:36,819]\u001b[0m Trial 14 finished with value: 0.706908953275201 and parameters: {'num_leaves': 73, 'min_child_samples': 33, 'max_depth': 51, 'learning_rate': 0.044587412279405214, 'reg_alpha': 0.22377248277631362, 'reg_lambda': 0.32300136802956547}. Best is trial 12 with value: 0.7147316505505352.\u001b[0m\n",
      "\u001b[32m[I 2021-06-06 21:47:10,033]\u001b[0m Trial 15 finished with value: 0.6994463759812618 and parameters: {'num_leaves': 71, 'min_child_samples': 38, 'max_depth': 54, 'learning_rate': 0.07125712988919591, 'reg_alpha': 0.2078992436751406, 'reg_lambda': 0.31900395308886453}. Best is trial 12 with value: 0.7147316505505352.\u001b[0m\n",
      "\u001b[32m[I 2021-06-06 21:48:10,495]\u001b[0m Trial 16 finished with value: 0.7079578752743937 and parameters: {'num_leaves': 18, 'min_child_samples': 6, 'max_depth': 51, 'learning_rate': 0.08441719270691407, 'reg_alpha': 0.1843523099519667, 'reg_lambda': 0.1629287310641877}. Best is trial 12 with value: 0.7147316505505352.\u001b[0m\n",
      "\u001b[32m[I 2021-06-06 21:48:22,692]\u001b[0m Trial 17 finished with value: 0.696571738316887 and parameters: {'num_leaves': 19, 'min_child_samples': 6, 'max_depth': 66, 'learning_rate': 0.1426261781046183, 'reg_alpha': 0.2962734649239308, 'reg_lambda': 0.15430050456867753}. Best is trial 12 with value: 0.7147316505505352.\u001b[0m\n",
      "\u001b[32m[I 2021-06-06 21:49:49,209]\u001b[0m Trial 19 finished with value: 0.6935594221642302 and parameters: {'num_leaves': 48, 'min_child_samples': 23, 'max_depth': 39, 'learning_rate': 0.13657555340221555, 'reg_alpha': 0.26862287897579706, 'reg_lambda': 0.19725061933582846}. Best is trial 12 with value: 0.7147316505505352.\u001b[0m\n",
      "\u001b[32m[I 2021-06-06 21:50:26,246]\u001b[0m Trial 18 finished with value: 0.693707887739601 and parameters: {'num_leaves': 44, 'min_child_samples': 23, 'max_depth': 68, 'learning_rate': 0.13607315493059108, 'reg_alpha': 0.2838408341052824, 'reg_lambda': 0.1849842228056518}. Best is trial 12 with value: 0.7147316505505352.\u001b[0m\n",
      "\u001b[32m[I 2021-06-06 21:50:34,075]\u001b[0m Trial 20 finished with value: 0.7098624930781317 and parameters: {'num_leaves': 2, 'min_child_samples': 52, 'max_depth': 69, 'learning_rate': 0.016935335387496697, 'reg_alpha': 0.3296104032809481, 'reg_lambda': 0.29190901979538936}. Best is trial 12 with value: 0.7147316505505352.\u001b[0m\n",
      "\u001b[32m[I 2021-06-06 21:51:51,324]\u001b[0m Trial 22 finished with value: 0.7149485247108683 and parameters: {'num_leaves': 99, 'min_child_samples': 27, 'max_depth': 5, 'learning_rate': 0.011288247518781713, 'reg_alpha': 0.2403052270871427, 'reg_lambda': 0.39863094716319486}. Best is trial 22 with value: 0.7149485247108683.\u001b[0m\n",
      "\u001b[32m[I 2021-06-06 21:53:16,639]\u001b[0m Trial 21 finished with value: 0.6647881934847535 and parameters: {'num_leaves': 100, 'min_child_samples': 48, 'max_depth': 9, 'learning_rate': 0.2537153557805634, 'reg_alpha': 0.33060100218578936, 'reg_lambda': 0.27896234016470345}. Best is trial 22 with value: 0.7149485247108683.\u001b[0m\n",
      "\u001b[32m[I 2021-06-06 21:54:18,414]\u001b[0m Trial 23 finished with value: 0.7048850321499512 and parameters: {'num_leaves': 100, 'min_child_samples': 43, 'max_depth': 13, 'learning_rate': 0.045384659167326744, 'reg_alpha': 0.23397380400003095, 'reg_lambda': 0.3514947014125114}. Best is trial 22 with value: 0.7149485247108683.\u001b[0m\n",
      "\u001b[32m[I 2021-06-06 21:56:00,082]\u001b[0m Trial 24 finished with value: 0.7049136126637892 and parameters: {'num_leaves': 87, 'min_child_samples': 14, 'max_depth': 16, 'learning_rate': 0.04465206445282026, 'reg_alpha': 0.23152361401883972, 'reg_lambda': 0.3596390931900815}. Best is trial 22 with value: 0.7149485247108683.\u001b[0m\n",
      "\u001b[32m[I 2021-06-06 21:57:04,249]\u001b[0m Trial 25 finished with value: 0.7034149236231418 and parameters: {'num_leaves': 85, 'min_child_samples': 27, 'max_depth': 38, 'learning_rate': 0.04538630258881479, 'reg_alpha': 0.18501240300941474, 'reg_lambda': 0.356897601864861}. Best is trial 22 with value: 0.7149485247108683.\u001b[0m\n"
     ]
    },
    {
     "name": "stderr",
     "output_type": "stream",
     "text": [
      "\u001b[32m[I 2021-06-06 21:58:51,178]\u001b[0m Trial 26 finished with value: 0.7157981930375562 and parameters: {'num_leaves': 72, 'min_child_samples': 25, 'max_depth': 43, 'learning_rate': 0.013560024069282941, 'reg_alpha': 0.17425305285197618, 'reg_lambda': 0.39734201679709347}. Best is trial 26 with value: 0.7157981930375562.\u001b[0m\n",
      "\u001b[32m[I 2021-06-06 21:59:31,499]\u001b[0m Trial 27 finished with value: 0.6974391997952228 and parameters: {'num_leaves': 73, 'min_child_samples': 1, 'max_depth': 43, 'learning_rate': 0.06592230133434238, 'reg_alpha': 0.1638845681608888, 'reg_lambda': 0.3958322480100066}. Best is trial 26 with value: 0.7157981930375562.\u001b[0m\n",
      "\u001b[32m[I 2021-06-06 22:01:42,343]\u001b[0m Trial 29 finished with value: 0.6909407511594332 and parameters: {'num_leaves': 66, 'min_child_samples': 60, 'max_depth': 22, 'learning_rate': 0.10802972320977539, 'reg_alpha': 0.1260032132430416, 'reg_lambda': 0.39841941069857706}. Best is trial 26 with value: 0.7157981930375562.\u001b[0m\n",
      "\u001b[32m[I 2021-06-06 22:02:08,813]\u001b[0m Trial 28 finished with value: 0.7033949830527719 and parameters: {'num_leaves': 71, 'min_child_samples': 59, 'max_depth': 45, 'learning_rate': 0.06895782711049205, 'reg_alpha': 0.10142451578465389, 'reg_lambda': 0.3927839778464397}. Best is trial 26 with value: 0.7157981930375562.\u001b[0m\n",
      "\u001b[32m[I 2021-06-06 22:03:52,319]\u001b[0m Trial 31 finished with value: 0.6812273137597845 and parameters: {'num_leaves': 39, 'min_child_samples': 45, 'max_depth': 62, 'learning_rate': 0.24169152688082238, 'reg_alpha': 0.04375539008597906, 'reg_lambda': 0.32727344253339463}. Best is trial 26 with value: 0.7157981930375562.\u001b[0m\n",
      "\u001b[32m[I 2021-06-06 22:04:25,626]\u001b[0m Trial 30 finished with value: 0.6710316919866908 and parameters: {'num_leaves': 79, 'min_child_samples': 43, 'max_depth': 76, 'learning_rate': 0.23619325954942216, 'reg_alpha': 0.11222449714253738, 'reg_lambda': 0.3285110591669814}. Best is trial 26 with value: 0.7157981930375562.\u001b[0m\n",
      "\u001b[32m[I 2021-06-06 22:08:08,142]\u001b[0m Trial 32 finished with value: 0.7151164145907885 and parameters: {'num_leaves': 94, 'min_child_samples': 19, 'max_depth': 31, 'learning_rate': 0.014508234625602162, 'reg_alpha': 0.17902542551716305, 'reg_lambda': 0.23004577171698842}. Best is trial 26 with value: 0.7157981930375562.\u001b[0m\n",
      "\u001b[32m[I 2021-06-06 22:08:53,669]\u001b[0m Trial 33 finished with value: 0.7156860889520029 and parameters: {'num_leaves': 91, 'min_child_samples': 35, 'max_depth': 30, 'learning_rate': 0.012747763451573548, 'reg_alpha': 0.18466751545473425, 'reg_lambda': 0.2206742848117507}. Best is trial 26 with value: 0.7157981930375562.\u001b[0m\n",
      "\u001b[32m[I 2021-06-06 22:12:10,572]\u001b[0m Trial 34 finished with value: 0.7142728414419807 and parameters: {'num_leaves': 90, 'min_child_samples': 35, 'max_depth': 46, 'learning_rate': 0.017819890701738568, 'reg_alpha': 0.20255193707059815, 'reg_lambda': 0.223222983533624}. Best is trial 26 with value: 0.7157981930375562.\u001b[0m\n",
      "\u001b[32m[I 2021-06-06 22:13:13,008]\u001b[0m Trial 35 finished with value: 0.7152541858633654 and parameters: {'num_leaves': 91, 'min_child_samples': 20, 'max_depth': 27, 'learning_rate': 0.015094399845802653, 'reg_alpha': 0.19173295129146342, 'reg_lambda': 0.23915282151908349}. Best is trial 26 with value: 0.7157981930375562.\u001b[0m\n",
      "\u001b[32m[I 2021-06-06 22:15:25,344]\u001b[0m Trial 37 finished with value: 0.692283543678107 and parameters: {'num_leaves': 79, 'min_child_samples': 19, 'max_depth': 28, 'learning_rate': 0.1133211549273044, 'reg_alpha': 0.1721147258817077, 'reg_lambda': 0.22386827192500836}. Best is trial 26 with value: 0.7157981930375562.\u001b[0m\n",
      "\u001b[32m[I 2021-06-06 22:16:03,687]\u001b[0m Trial 36 finished with value: 0.6863131650258547 and parameters: {'num_leaves': 100, 'min_child_samples': 26, 'max_depth': 25, 'learning_rate': 0.11182879443728339, 'reg_alpha': 0.1899357952476433, 'reg_lambda': 0.21646948190952459}. Best is trial 26 with value: 0.7157981930375562.\u001b[0m\n",
      "\u001b[32m[I 2021-06-06 22:17:51,252]\u001b[0m Trial 38 finished with value: 0.6974677778581551 and parameters: {'num_leaves': 94, 'min_child_samples': 17, 'max_depth': 34, 'learning_rate': 0.06122606928287794, 'reg_alpha': 0.13182253415442735, 'reg_lambda': 0.2542096526509375}. Best is trial 26 with value: 0.7157981930375562.\u001b[0m\n",
      "\u001b[32m[I 2021-06-06 22:18:00,791]\u001b[0m Trial 39 finished with value: 0.7026681941693907 and parameters: {'num_leaves': 80, 'min_child_samples': 16, 'max_depth': 34, 'learning_rate': 0.05692828161738289, 'reg_alpha': 0.13643223901905674, 'reg_lambda': 0.25363103997935477}. Best is trial 26 with value: 0.7157981930375562.\u001b[0m\n",
      "\u001b[32m[I 2021-06-06 22:20:07,817]\u001b[0m Trial 40 finished with value: 0.6803337471325471 and parameters: {'num_leaves': 79, 'min_child_samples': 39, 'max_depth': 39, 'learning_rate': 0.1609031715753319, 'reg_alpha': 0.0805791308075091, 'reg_lambda': 0.2883350883407699}. Best is trial 26 with value: 0.7157981930375562.\u001b[0m\n",
      "\u001b[32m[I 2021-06-06 22:20:57,216]\u001b[0m Trial 41 finished with value: 0.711266350842546 and parameters: {'num_leaves': 88, 'min_child_samples': 10, 'max_depth': 39, 'learning_rate': 0.030078104566802873, 'reg_alpha': 0.06477894282623074, 'reg_lambda': 0.27381238914483574}. Best is trial 26 with value: 0.7157981930375562.\u001b[0m\n",
      "\u001b[32m[I 2021-06-06 22:24:16,672]\u001b[0m Trial 42 finished with value: 0.716141680946458 and parameters: {'num_leaves': 89, 'min_child_samples': 29, 'max_depth': 21, 'learning_rate': 0.012329426995076716, 'reg_alpha': 0.2191853005926836, 'reg_lambda': 0.1983524519240873}. Best is trial 42 with value: 0.716141680946458.\u001b[0m\n",
      "\u001b[32m[I 2021-06-06 22:25:54,109]\u001b[0m Trial 43 finished with value: 0.7154157376256107 and parameters: {'num_leaves': 95, 'min_child_samples': 29, 'max_depth': 21, 'learning_rate': 0.012497976152499795, 'reg_alpha': 0.16369006728357968, 'reg_lambda': 0.24008136129687485}. Best is trial 42 with value: 0.716141680946458.\u001b[0m\n",
      "\u001b[32m[I 2021-06-06 22:28:36,342]\u001b[0m Trial 44 finished with value: 0.7160070907996787 and parameters: {'num_leaves': 92, 'min_child_samples': 22, 'max_depth': 20, 'learning_rate': 0.011234095227144171, 'reg_alpha': 0.2105605295358537, 'reg_lambda': 0.1985998276676058}. Best is trial 42 with value: 0.716141680946458.\u001b[0m\n",
      "\u001b[32m[I 2021-06-06 22:28:54,251]\u001b[0m Trial 45 finished with value: 0.6949929480194694 and parameters: {'num_leaves': 84, 'min_child_samples': 30, 'max_depth': 22, 'learning_rate': 0.0886813072485641, 'reg_alpha': 0.2033200983734905, 'reg_lambda': 0.20466119842776265}. Best is trial 42 with value: 0.716141680946458.\u001b[0m\n",
      "\u001b[32m[I 2021-06-06 22:31:09,793]\u001b[0m Trial 46 finished with value: 0.6946669635301258 and parameters: {'num_leaves': 83, 'min_child_samples': 31, 'max_depth': 20, 'learning_rate': 0.0882980937547733, 'reg_alpha': 0.21593866803290523, 'reg_lambda': 0.11654913022398768}. Best is trial 42 with value: 0.716141680946458.\u001b[0m\n",
      "\u001b[32m[I 2021-06-06 22:32:07,393]\u001b[0m Trial 47 finished with value: 0.7068584435559602 and parameters: {'num_leaves': 96, 'min_child_samples': 29, 'max_depth': 12, 'learning_rate': 0.03442093135359883, 'reg_alpha': 0.15317114134534535, 'reg_lambda': 0.13089562046286513}. Best is trial 42 with value: 0.716141680946458.\u001b[0m\n",
      "\u001b[32m[I 2021-06-06 22:33:03,383]\u001b[0m Trial 48 finished with value: 0.6561799614375707 and parameters: {'num_leaves': 64, 'min_child_samples': 39, 'max_depth': 12, 'learning_rate': 0.39945848133022066, 'reg_alpha': 0.15968086340374069, 'reg_lambda': 0.17835004766709076}. Best is trial 42 with value: 0.716141680946458.\u001b[0m\n",
      "\u001b[32m[I 2021-06-06 22:34:51,388]\u001b[0m Trial 49 finished with value: 0.7128581190868309 and parameters: {'num_leaves': 60, 'min_child_samples': 39, 'max_depth': 14, 'learning_rate': 0.030920488089156355, 'reg_alpha': 0.14843734191625885, 'reg_lambda': 0.17469803609640583}. Best is trial 42 with value: 0.716141680946458.\u001b[0m\n",
      "\u001b[32m[I 2021-06-06 22:35:17,029]\u001b[0m Trial 50 finished with value: 0.7133274207486094 and parameters: {'num_leaves': 56, 'min_child_samples': 24, 'max_depth': 17, 'learning_rate': 0.03181255854716535, 'reg_alpha': 0.21792060954656015, 'reg_lambda': 0.07367892714361027}. Best is trial 42 with value: 0.716141680946458.\u001b[0m\n",
      "\u001b[32m[I 2021-06-06 22:39:12,539]\u001b[0m Trial 52 finished with value: 0.7155825117181172 and parameters: {'num_leaves': 90, 'min_child_samples': 21, 'max_depth': 26, 'learning_rate': 0.013251527419380595, 'reg_alpha': 0.19653885447345285, 'reg_lambda': 0.19996998327193177}. Best is trial 42 with value: 0.716141680946458.\u001b[0m\n"
     ]
    },
    {
     "name": "stderr",
     "output_type": "stream",
     "text": [
      "\u001b[32m[I 2021-06-06 22:39:36,663]\u001b[0m Trial 51 finished with value: 0.7159911253985982 and parameters: {'num_leaves': 89, 'min_child_samples': 54, 'max_depth': 18, 'learning_rate': 0.010851446085216413, 'reg_alpha': 0.2178496781793919, 'reg_lambda': 0.09289691649792249}. Best is trial 42 with value: 0.716141680946458.\u001b[0m\n"
     ]
    },
    {
     "ename": "KeyboardInterrupt",
     "evalue": "",
     "output_type": "error",
     "traceback": [
      "\u001b[1;31m---------------------------------------------------------------------------\u001b[0m",
      "\u001b[1;31mKeyboardInterrupt\u001b[0m                         Traceback (most recent call last)",
      "\u001b[1;32m<ipython-input-7-d0e79a11d27a>\u001b[0m in \u001b[0;36m<module>\u001b[1;34m\u001b[0m\n\u001b[0;32m     19\u001b[0m \u001b[1;33m\u001b[0m\u001b[0m\n\u001b[0;32m     20\u001b[0m \u001b[0mstudy_lgb\u001b[0m \u001b[1;33m=\u001b[0m \u001b[0moptuna\u001b[0m\u001b[1;33m.\u001b[0m\u001b[0mcreate_study\u001b[0m\u001b[1;33m(\u001b[0m\u001b[0mdirection\u001b[0m\u001b[1;33m=\u001b[0m\u001b[1;34m\"maximize\"\u001b[0m\u001b[1;33m,\u001b[0m \u001b[0msampler\u001b[0m\u001b[1;33m=\u001b[0m\u001b[0msampler\u001b[0m\u001b[1;33m)\u001b[0m\u001b[1;33m\u001b[0m\u001b[1;33m\u001b[0m\u001b[0m\n\u001b[1;32m---> 21\u001b[1;33m \u001b[0mstudy_lgb\u001b[0m\u001b[1;33m.\u001b[0m\u001b[0moptimize\u001b[0m\u001b[1;33m(\u001b[0m\u001b[0mobjective_lgb\u001b[0m\u001b[1;33m,\u001b[0m \u001b[0mn_trials\u001b[0m\u001b[1;33m=\u001b[0m\u001b[1;36m100\u001b[0m\u001b[1;33m,\u001b[0m \u001b[0mtimeout\u001b[0m\u001b[1;33m=\u001b[0m\u001b[1;32mNone\u001b[0m\u001b[1;33m,\u001b[0m \u001b[0mn_jobs\u001b[0m\u001b[1;33m=\u001b[0m\u001b[1;36m2\u001b[0m\u001b[1;33m)\u001b[0m\u001b[1;33m\u001b[0m\u001b[1;33m\u001b[0m\u001b[0m\n\u001b[0m",
      "\u001b[1;32mE:\\Anaconda\\lib\\site-packages\\optuna\\study.py\u001b[0m in \u001b[0;36moptimize\u001b[1;34m(self, func, n_trials, timeout, n_jobs, catch, callbacks, gc_after_trial, show_progress_bar)\u001b[0m\n\u001b[0;32m    304\u001b[0m                 \u001b[0mIf\u001b[0m \u001b[0mnested\u001b[0m \u001b[0minvocation\u001b[0m \u001b[0mof\u001b[0m \u001b[0mthis\u001b[0m \u001b[0mmethod\u001b[0m \u001b[0moccurs\u001b[0m\u001b[1;33m.\u001b[0m\u001b[1;33m\u001b[0m\u001b[1;33m\u001b[0m\u001b[0m\n\u001b[0;32m    305\u001b[0m         \"\"\"\n\u001b[1;32m--> 306\u001b[1;33m         _optimize(\n\u001b[0m\u001b[0;32m    307\u001b[0m             \u001b[0mstudy\u001b[0m\u001b[1;33m=\u001b[0m\u001b[0mself\u001b[0m\u001b[1;33m,\u001b[0m\u001b[1;33m\u001b[0m\u001b[1;33m\u001b[0m\u001b[0m\n\u001b[0;32m    308\u001b[0m             \u001b[0mfunc\u001b[0m\u001b[1;33m=\u001b[0m\u001b[0mfunc\u001b[0m\u001b[1;33m,\u001b[0m\u001b[1;33m\u001b[0m\u001b[1;33m\u001b[0m\u001b[0m\n",
      "\u001b[1;32mE:\\Anaconda\\lib\\site-packages\\optuna\\_optimize.py\u001b[0m in \u001b[0;36m_optimize\u001b[1;34m(study, func, n_trials, timeout, n_jobs, catch, callbacks, gc_after_trial, show_progress_bar)\u001b[0m\n\u001b[0;32m     99\u001b[0m                     )\n\u001b[0;32m    100\u001b[0m \u001b[1;33m\u001b[0m\u001b[0m\n\u001b[1;32m--> 101\u001b[1;33m                 parallel(\n\u001b[0m\u001b[0;32m    102\u001b[0m                     delayed(_optimize_sequential)(\n\u001b[0;32m    103\u001b[0m                         \u001b[0mstudy\u001b[0m\u001b[1;33m,\u001b[0m\u001b[1;33m\u001b[0m\u001b[1;33m\u001b[0m\u001b[0m\n",
      "\u001b[1;32mE:\\Anaconda\\lib\\site-packages\\joblib\\parallel.py\u001b[0m in \u001b[0;36m__call__\u001b[1;34m(self, iterable)\u001b[0m\n\u001b[0;32m   1052\u001b[0m \u001b[1;33m\u001b[0m\u001b[0m\n\u001b[0;32m   1053\u001b[0m             \u001b[1;32mwith\u001b[0m \u001b[0mself\u001b[0m\u001b[1;33m.\u001b[0m\u001b[0m_backend\u001b[0m\u001b[1;33m.\u001b[0m\u001b[0mretrieval_context\u001b[0m\u001b[1;33m(\u001b[0m\u001b[1;33m)\u001b[0m\u001b[1;33m:\u001b[0m\u001b[1;33m\u001b[0m\u001b[1;33m\u001b[0m\u001b[0m\n\u001b[1;32m-> 1054\u001b[1;33m                 \u001b[0mself\u001b[0m\u001b[1;33m.\u001b[0m\u001b[0mretrieve\u001b[0m\u001b[1;33m(\u001b[0m\u001b[1;33m)\u001b[0m\u001b[1;33m\u001b[0m\u001b[1;33m\u001b[0m\u001b[0m\n\u001b[0m\u001b[0;32m   1055\u001b[0m             \u001b[1;31m# Make sure that we get a last message telling us we are done\u001b[0m\u001b[1;33m\u001b[0m\u001b[1;33m\u001b[0m\u001b[1;33m\u001b[0m\u001b[0m\n\u001b[0;32m   1056\u001b[0m             \u001b[0melapsed_time\u001b[0m \u001b[1;33m=\u001b[0m \u001b[0mtime\u001b[0m\u001b[1;33m.\u001b[0m\u001b[0mtime\u001b[0m\u001b[1;33m(\u001b[0m\u001b[1;33m)\u001b[0m \u001b[1;33m-\u001b[0m \u001b[0mself\u001b[0m\u001b[1;33m.\u001b[0m\u001b[0m_start_time\u001b[0m\u001b[1;33m\u001b[0m\u001b[1;33m\u001b[0m\u001b[0m\n",
      "\u001b[1;32mE:\\Anaconda\\lib\\site-packages\\joblib\\parallel.py\u001b[0m in \u001b[0;36mretrieve\u001b[1;34m(self)\u001b[0m\n\u001b[0;32m    931\u001b[0m             \u001b[1;32mtry\u001b[0m\u001b[1;33m:\u001b[0m\u001b[1;33m\u001b[0m\u001b[1;33m\u001b[0m\u001b[0m\n\u001b[0;32m    932\u001b[0m                 \u001b[1;32mif\u001b[0m \u001b[0mgetattr\u001b[0m\u001b[1;33m(\u001b[0m\u001b[0mself\u001b[0m\u001b[1;33m.\u001b[0m\u001b[0m_backend\u001b[0m\u001b[1;33m,\u001b[0m \u001b[1;34m'supports_timeout'\u001b[0m\u001b[1;33m,\u001b[0m \u001b[1;32mFalse\u001b[0m\u001b[1;33m)\u001b[0m\u001b[1;33m:\u001b[0m\u001b[1;33m\u001b[0m\u001b[1;33m\u001b[0m\u001b[0m\n\u001b[1;32m--> 933\u001b[1;33m                     \u001b[0mself\u001b[0m\u001b[1;33m.\u001b[0m\u001b[0m_output\u001b[0m\u001b[1;33m.\u001b[0m\u001b[0mextend\u001b[0m\u001b[1;33m(\u001b[0m\u001b[0mjob\u001b[0m\u001b[1;33m.\u001b[0m\u001b[0mget\u001b[0m\u001b[1;33m(\u001b[0m\u001b[0mtimeout\u001b[0m\u001b[1;33m=\u001b[0m\u001b[0mself\u001b[0m\u001b[1;33m.\u001b[0m\u001b[0mtimeout\u001b[0m\u001b[1;33m)\u001b[0m\u001b[1;33m)\u001b[0m\u001b[1;33m\u001b[0m\u001b[1;33m\u001b[0m\u001b[0m\n\u001b[0m\u001b[0;32m    934\u001b[0m                 \u001b[1;32melse\u001b[0m\u001b[1;33m:\u001b[0m\u001b[1;33m\u001b[0m\u001b[1;33m\u001b[0m\u001b[0m\n\u001b[0;32m    935\u001b[0m                     \u001b[0mself\u001b[0m\u001b[1;33m.\u001b[0m\u001b[0m_output\u001b[0m\u001b[1;33m.\u001b[0m\u001b[0mextend\u001b[0m\u001b[1;33m(\u001b[0m\u001b[0mjob\u001b[0m\u001b[1;33m.\u001b[0m\u001b[0mget\u001b[0m\u001b[1;33m(\u001b[0m\u001b[1;33m)\u001b[0m\u001b[1;33m)\u001b[0m\u001b[1;33m\u001b[0m\u001b[1;33m\u001b[0m\u001b[0m\n",
      "\u001b[1;32mE:\\Anaconda\\lib\\multiprocessing\\pool.py\u001b[0m in \u001b[0;36mget\u001b[1;34m(self, timeout)\u001b[0m\n\u001b[0;32m    763\u001b[0m \u001b[1;33m\u001b[0m\u001b[0m\n\u001b[0;32m    764\u001b[0m     \u001b[1;32mdef\u001b[0m \u001b[0mget\u001b[0m\u001b[1;33m(\u001b[0m\u001b[0mself\u001b[0m\u001b[1;33m,\u001b[0m \u001b[0mtimeout\u001b[0m\u001b[1;33m=\u001b[0m\u001b[1;32mNone\u001b[0m\u001b[1;33m)\u001b[0m\u001b[1;33m:\u001b[0m\u001b[1;33m\u001b[0m\u001b[1;33m\u001b[0m\u001b[0m\n\u001b[1;32m--> 765\u001b[1;33m         \u001b[0mself\u001b[0m\u001b[1;33m.\u001b[0m\u001b[0mwait\u001b[0m\u001b[1;33m(\u001b[0m\u001b[0mtimeout\u001b[0m\u001b[1;33m)\u001b[0m\u001b[1;33m\u001b[0m\u001b[1;33m\u001b[0m\u001b[0m\n\u001b[0m\u001b[0;32m    766\u001b[0m         \u001b[1;32mif\u001b[0m \u001b[1;32mnot\u001b[0m \u001b[0mself\u001b[0m\u001b[1;33m.\u001b[0m\u001b[0mready\u001b[0m\u001b[1;33m(\u001b[0m\u001b[1;33m)\u001b[0m\u001b[1;33m:\u001b[0m\u001b[1;33m\u001b[0m\u001b[1;33m\u001b[0m\u001b[0m\n\u001b[0;32m    767\u001b[0m             \u001b[1;32mraise\u001b[0m \u001b[0mTimeoutError\u001b[0m\u001b[1;33m\u001b[0m\u001b[1;33m\u001b[0m\u001b[0m\n",
      "\u001b[1;32mE:\\Anaconda\\lib\\multiprocessing\\pool.py\u001b[0m in \u001b[0;36mwait\u001b[1;34m(self, timeout)\u001b[0m\n\u001b[0;32m    760\u001b[0m \u001b[1;33m\u001b[0m\u001b[0m\n\u001b[0;32m    761\u001b[0m     \u001b[1;32mdef\u001b[0m \u001b[0mwait\u001b[0m\u001b[1;33m(\u001b[0m\u001b[0mself\u001b[0m\u001b[1;33m,\u001b[0m \u001b[0mtimeout\u001b[0m\u001b[1;33m=\u001b[0m\u001b[1;32mNone\u001b[0m\u001b[1;33m)\u001b[0m\u001b[1;33m:\u001b[0m\u001b[1;33m\u001b[0m\u001b[1;33m\u001b[0m\u001b[0m\n\u001b[1;32m--> 762\u001b[1;33m         \u001b[0mself\u001b[0m\u001b[1;33m.\u001b[0m\u001b[0m_event\u001b[0m\u001b[1;33m.\u001b[0m\u001b[0mwait\u001b[0m\u001b[1;33m(\u001b[0m\u001b[0mtimeout\u001b[0m\u001b[1;33m)\u001b[0m\u001b[1;33m\u001b[0m\u001b[1;33m\u001b[0m\u001b[0m\n\u001b[0m\u001b[0;32m    763\u001b[0m \u001b[1;33m\u001b[0m\u001b[0m\n\u001b[0;32m    764\u001b[0m     \u001b[1;32mdef\u001b[0m \u001b[0mget\u001b[0m\u001b[1;33m(\u001b[0m\u001b[0mself\u001b[0m\u001b[1;33m,\u001b[0m \u001b[0mtimeout\u001b[0m\u001b[1;33m=\u001b[0m\u001b[1;32mNone\u001b[0m\u001b[1;33m)\u001b[0m\u001b[1;33m:\u001b[0m\u001b[1;33m\u001b[0m\u001b[1;33m\u001b[0m\u001b[0m\n",
      "\u001b[1;32mE:\\Anaconda\\lib\\threading.py\u001b[0m in \u001b[0;36mwait\u001b[1;34m(self, timeout)\u001b[0m\n\u001b[0;32m    556\u001b[0m             \u001b[0msignaled\u001b[0m \u001b[1;33m=\u001b[0m \u001b[0mself\u001b[0m\u001b[1;33m.\u001b[0m\u001b[0m_flag\u001b[0m\u001b[1;33m\u001b[0m\u001b[1;33m\u001b[0m\u001b[0m\n\u001b[0;32m    557\u001b[0m             \u001b[1;32mif\u001b[0m \u001b[1;32mnot\u001b[0m \u001b[0msignaled\u001b[0m\u001b[1;33m:\u001b[0m\u001b[1;33m\u001b[0m\u001b[1;33m\u001b[0m\u001b[0m\n\u001b[1;32m--> 558\u001b[1;33m                 \u001b[0msignaled\u001b[0m \u001b[1;33m=\u001b[0m \u001b[0mself\u001b[0m\u001b[1;33m.\u001b[0m\u001b[0m_cond\u001b[0m\u001b[1;33m.\u001b[0m\u001b[0mwait\u001b[0m\u001b[1;33m(\u001b[0m\u001b[0mtimeout\u001b[0m\u001b[1;33m)\u001b[0m\u001b[1;33m\u001b[0m\u001b[1;33m\u001b[0m\u001b[0m\n\u001b[0m\u001b[0;32m    559\u001b[0m             \u001b[1;32mreturn\u001b[0m \u001b[0msignaled\u001b[0m\u001b[1;33m\u001b[0m\u001b[1;33m\u001b[0m\u001b[0m\n\u001b[0;32m    560\u001b[0m \u001b[1;33m\u001b[0m\u001b[0m\n",
      "\u001b[1;32mE:\\Anaconda\\lib\\threading.py\u001b[0m in \u001b[0;36mwait\u001b[1;34m(self, timeout)\u001b[0m\n\u001b[0;32m    300\u001b[0m         \u001b[1;32mtry\u001b[0m\u001b[1;33m:\u001b[0m    \u001b[1;31m# restore state no matter what (e.g., KeyboardInterrupt)\u001b[0m\u001b[1;33m\u001b[0m\u001b[1;33m\u001b[0m\u001b[0m\n\u001b[0;32m    301\u001b[0m             \u001b[1;32mif\u001b[0m \u001b[0mtimeout\u001b[0m \u001b[1;32mis\u001b[0m \u001b[1;32mNone\u001b[0m\u001b[1;33m:\u001b[0m\u001b[1;33m\u001b[0m\u001b[1;33m\u001b[0m\u001b[0m\n\u001b[1;32m--> 302\u001b[1;33m                 \u001b[0mwaiter\u001b[0m\u001b[1;33m.\u001b[0m\u001b[0macquire\u001b[0m\u001b[1;33m(\u001b[0m\u001b[1;33m)\u001b[0m\u001b[1;33m\u001b[0m\u001b[1;33m\u001b[0m\u001b[0m\n\u001b[0m\u001b[0;32m    303\u001b[0m                 \u001b[0mgotit\u001b[0m \u001b[1;33m=\u001b[0m \u001b[1;32mTrue\u001b[0m\u001b[1;33m\u001b[0m\u001b[1;33m\u001b[0m\u001b[0m\n\u001b[0;32m    304\u001b[0m             \u001b[1;32melse\u001b[0m\u001b[1;33m:\u001b[0m\u001b[1;33m\u001b[0m\u001b[1;33m\u001b[0m\u001b[0m\n",
      "\u001b[1;31mKeyboardInterrupt\u001b[0m: "
     ]
    }
   ],
   "source": [
    "# sampler=TPESampler(seed=10)\n",
    "\n",
    "# def objective_lgb(trial):    \n",
    "#     param = {'num_leaves': trial.suggest_int('num_leaves', 2, 100),\n",
    "#           'min_child_samples': trial.suggest_int('min_child_samples', 1, 100),\n",
    "#           'objective': 'binary',\n",
    "#           'max_depth': trial.suggest_int('max_depth', 5, 100),\n",
    "#           'learning_rate': trial.suggest_uniform('learning_rate', 0.01, 0.4),\n",
    "#           \"boosting_type\": \"gbdt\",\n",
    "#           \"metric\": 'auc',\n",
    "#           'reg_alpha': trial.suggest_uniform('reg_alpha', 0.01, 0.4),\n",
    "#           'reg_lambda': trial.suggest_uniform('reg_lambda', 0.01, 0.4),\n",
    "#          'is_unbalance': True}\n",
    "    \n",
    "#     gbm = lgb.train(param, dtrain, verbose_eval=False, num_boost_round=1000)\n",
    "#     preds = gbm.predict(X_val)\n",
    "#     ROC_AUC = roc_auc_score(y_val, preds)\n",
    "#     return ROC_AUC\n",
    "\n",
    "# study_lgb = optuna.create_study(direction=\"maximize\", sampler=sampler)\n",
    "# study_lgb.optimize(objective_lgb, n_trials=100, timeout=None, n_jobs=2)"
   ]
  },
  {
   "cell_type": "code",
   "execution_count": null,
   "metadata": {
    "ExecuteTime": {
     "start_time": "2021-06-06T18:29:15.062Z"
    }
   },
   "outputs": [],
   "source": [
    "# print_results(study_lgb)"
   ]
  },
  {
   "cell_type": "markdown",
   "metadata": {},
   "source": [
    "С тюнингом"
   ]
  },
  {
   "cell_type": "code",
   "execution_count": 17,
   "metadata": {
    "ExecuteTime": {
     "end_time": "2021-06-06T19:54:30.251498Z",
     "start_time": "2021-06-06T19:54:30.245498Z"
    }
   },
   "outputs": [],
   "source": [
    "param = {'num_leaves': 89,\n",
    "      'min_child_samples': 29,\n",
    "      'objective': 'binary',\n",
    "      'max_depth': 21,\n",
    "      'learning_rate': 0.012,\n",
    "      \"boosting_type\": \"gbdt\",\n",
    "      \"metric\": 'auc',\n",
    "      'reg_alpha': 0.22,\n",
    "      'reg_lambda': 0.2,\n",
    "     'is_unbalance': True,\n",
    "         'verbose': -1}\n",
    "\n",
    "gbm = lgb.train(param, dtrain_global, num_boost_round=1000)\n",
    "preds = gbm.predict(X_test)\n",
    "preds_0_1 = np.where((preds >= 0.5), 1, 0)\n",
    "\n",
    "precision = precision_score(y_test, preds_0_1, average='macro')\n",
    "recall = recall_score(y_test, preds_0_1, average='macro')\n",
    "AUC_PR = average_precision_score(y_test, preds)\n",
    "AUC_ROC = roc_auc_score(y_test, preds)\n",
    "f1 = f1_score(y_test, preds_0_1, average='macro')\n",
    "accuracy = accuracy_score(y_test, preds_0_1)\n",
    "results['LightGBM'] = [precision, recall, AUC_PR, AUC_ROC, f1, accuracy]"
   ]
  },
  {
   "cell_type": "code",
   "execution_count": 18,
   "metadata": {
    "ExecuteTime": {
     "end_time": "2021-06-06T19:54:35.543801Z",
     "start_time": "2021-06-06T19:54:35.422794Z"
    }
   },
   "outputs": [
    {
     "data": {
      "text/html": [
       "<div>\n",
       "<style scoped>\n",
       "    .dataframe tbody tr th:only-of-type {\n",
       "        vertical-align: middle;\n",
       "    }\n",
       "\n",
       "    .dataframe tbody tr th {\n",
       "        vertical-align: top;\n",
       "    }\n",
       "\n",
       "    .dataframe thead th {\n",
       "        text-align: right;\n",
       "    }\n",
       "</style>\n",
       "<table border=\"1\" class=\"dataframe\">\n",
       "  <thead>\n",
       "    <tr style=\"text-align: right;\">\n",
       "      <th></th>\n",
       "      <th>random_classifier</th>\n",
       "      <th>LightGBM</th>\n",
       "    </tr>\n",
       "  </thead>\n",
       "  <tbody>\n",
       "    <tr>\n",
       "      <th>Precision</th>\n",
       "      <td>0.500000</td>\n",
       "      <td>0.604119</td>\n",
       "    </tr>\n",
       "    <tr>\n",
       "      <th>Recall</th>\n",
       "      <td>0.500000</td>\n",
       "      <td>0.655288</td>\n",
       "    </tr>\n",
       "    <tr>\n",
       "      <th>AUC-PR</th>\n",
       "      <td>0.197521</td>\n",
       "      <td>0.394129</td>\n",
       "    </tr>\n",
       "    <tr>\n",
       "      <th>AUC-ROC</th>\n",
       "      <td>0.500000</td>\n",
       "      <td>0.716128</td>\n",
       "    </tr>\n",
       "    <tr>\n",
       "      <th>F1_score</th>\n",
       "      <td>0.500000</td>\n",
       "      <td>0.571163</td>\n",
       "    </tr>\n",
       "    <tr>\n",
       "      <th>Accuracy</th>\n",
       "      <td>0.682987</td>\n",
       "      <td>0.608357</td>\n",
       "    </tr>\n",
       "  </tbody>\n",
       "</table>\n",
       "</div>"
      ],
      "text/plain": [
       "           random_classifier  LightGBM\n",
       "Precision           0.500000  0.604119\n",
       "Recall              0.500000  0.655288\n",
       "AUC-PR              0.197521  0.394129\n",
       "AUC-ROC             0.500000  0.716128\n",
       "F1_score            0.500000  0.571163\n",
       "Accuracy            0.682987  0.608357"
      ]
     },
     "execution_count": 18,
     "metadata": {},
     "output_type": "execute_result"
    }
   ],
   "source": [
    "results"
   ]
  },
  {
   "cell_type": "code",
   "execution_count": 19,
   "metadata": {
    "ExecuteTime": {
     "end_time": "2021-06-06T19:54:47.603491Z",
     "start_time": "2021-06-06T19:54:46.569432Z"
    }
   },
   "outputs": [
    {
     "name": "stdout",
     "output_type": "stream",
     "text": [
      "              precision    recall  f1-score   support\n",
      "\n",
      "           0       0.89      0.57      0.70    177596\n",
      "           1       0.32      0.74      0.44     48043\n",
      "\n",
      "    accuracy                           0.61    225639\n",
      "   macro avg       0.60      0.66      0.57    225639\n",
      "weighted avg       0.77      0.61      0.64    225639\n",
      "\n"
     ]
    },
    {
     "data": {
      "image/png": "[encoded data removed]",
      "text/plain": [
       "<Figure size 1152x576 with 2 Axes>"
      ]
     },
     "metadata": {
      "needs_background": "light"
     },
     "output_type": "display_data"
    },
    {
     "name": "stdout",
     "output_type": "stream",
     "text": [
      "AUC-PR - 0.39411\n",
      "AUC-ROC - 0.71613\n",
      "MEAN AUC-PR - 0.39411\n",
      "MEAN AUC-ROC - 0.71613\n"
     ]
    }
   ],
   "source": [
    "print(classification_report(y_test, np.where((preds >= 0.5), 1, 0)))\n",
    "plot_AUC([y_test], [preds])"
   ]
  },
  {
   "cell_type": "markdown",
   "metadata": {},
   "source": [
    "# важность признаков"
   ]
  },
  {
   "cell_type": "code",
   "execution_count": 20,
   "metadata": {
    "ExecuteTime": {
     "end_time": "2021-06-06T19:54:52.277758Z",
     "start_time": "2021-06-06T19:54:52.269758Z"
    }
   },
   "outputs": [],
   "source": [
    "feature = pd.DataFrame({\n",
    "    'feature_name': X_train.columns,\n",
    "    'importance': gbm.feature_importance('gain')\n",
    "})\n",
    "\n",
    "feature_sorted = feature.sort_values(by='importance', ascending=False)"
   ]
  },
  {
   "cell_type": "code",
   "execution_count": 21,
   "metadata": {
    "ExecuteTime": {
     "end_time": "2021-06-06T19:54:53.945854Z",
     "start_time": "2021-06-06T19:54:53.590833Z"
    }
   },
   "outputs": [
    {
     "data": {
      "image/png": "[encoded data removed]",
      "text/plain": [
       "<Figure size 864x864 with 1 Axes>"
      ]
     },
     "metadata": {
      "needs_background": "light"
     },
     "output_type": "display_data"
    }
   ],
   "source": [
    "fig, ax = plt.subplots(figsize=(12, 12))\n",
    "plt.grid()\n",
    "sns.barplot(x=\"importance\", y=\"feature_name\", data=feature_sorted[feature_sorted.importance != 0])\n",
    "\n",
    "plt.show()"
   ]
  },
  {
   "cell_type": "code",
   "execution_count": null,
   "metadata": {},
   "outputs": [],
   "source": []
  }
 ],
 "metadata": {
  "kernelspec": {
   "display_name": "Python 3",
   "language": "python",
   "name": "python3"
  },
  "language_info": {
   "codemirror_mode": {
    "name": "ipython",
    "version": 3
   },
   "file_extension": ".py",
   "mimetype": "text/x-python",
   "name": "python",
   "nbconvert_exporter": "python",
   "pygments_lexer": "ipython3",
   "version": "3.8.5"
  }
 },
 "nbformat": 4,
 "nbformat_minor": 4
}
